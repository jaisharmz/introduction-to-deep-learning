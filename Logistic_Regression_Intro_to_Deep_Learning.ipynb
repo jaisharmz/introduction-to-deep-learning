{
  "nbformat": 4,
  "nbformat_minor": 0,
  "metadata": {
    "colab": {
      "name": "Logistic_Regression_Intro_to_Deep_Learning.ipynb",
      "provenance": [],
      "collapsed_sections": []
    },
    "kernelspec": {
      "name": "python3",
      "display_name": "Python 3"
    },
    "language_info": {
      "name": "python"
    },
    "accelerator": "GPU"
  },
  "cells": [
    {
      "cell_type": "markdown",
      "metadata": {
        "id": "0Y8aACPv9xYg"
      },
      "source": [
        "# Logistic Regression\n",
        "## Intro to Deep Learning Class"
      ]
    },
    {
      "cell_type": "markdown",
      "metadata": {
        "id": "kXb8z-EkuARS"
      },
      "source": [
        "## Importing Libraries\n",
        "Before we start, let's import some necessary libraries we will be using."
      ]
    },
    {
      "cell_type": "code",
      "metadata": {
        "colab": {
          "base_uri": "https://localhost:8080/"
        },
        "id": "NR89YDDUvhce",
        "outputId": "61bf92d3-e41d-48fb-858c-34df3605923e"
      },
      "source": [
        "import sklearn # Sklearn\n",
        "!pip install -U scikit-learn\n",
        "print(\"\\n\\nSklearn version: \" + str(sklearn.__version__))"
      ],
      "execution_count": null,
      "outputs": [
        {
          "output_type": "stream",
          "name": "stdout",
          "text": [
            "Requirement already satisfied: scikit-learn in /usr/local/lib/python3.7/dist-packages (1.0.1)\n",
            "Requirement already satisfied: numpy>=1.14.6 in /usr/local/lib/python3.7/dist-packages (from scikit-learn) (1.19.5)\n",
            "Requirement already satisfied: joblib>=0.11 in /usr/local/lib/python3.7/dist-packages (from scikit-learn) (1.1.0)\n",
            "Requirement already satisfied: scipy>=1.1.0 in /usr/local/lib/python3.7/dist-packages (from scikit-learn) (1.4.1)\n",
            "Requirement already satisfied: threadpoolctl>=2.0.0 in /usr/local/lib/python3.7/dist-packages (from scikit-learn) (3.0.0)\n",
            "\n",
            "\n",
            "Sklearn version: 1.0.1\n"
          ]
        }
      ]
    },
    {
      "cell_type": "code",
      "metadata": {
        "id": "hBKcmplftezQ"
      },
      "source": [
        "import numpy as np # NumPy\n",
        "import pandas as pd # Pandas\n",
        "import matplotlib.pyplot as plt # Matplotlib\n",
        "from IPython.display import display # For displaying the Pandas DataFrame\n",
        "import math # Math library\n",
        "from sklearn.datasets import load_breast_cancer # Import data set from sklearn\n",
        "from sklearn.model_selection import train_test_split # For splitting the data set into train and test sets"
      ],
      "execution_count": null,
      "outputs": []
    },
    {
      "cell_type": "markdown",
      "metadata": {
        "id": "W2XiILZAy4Go"
      },
      "source": [
        "## Import Data set from Sklearn\n",
        "We will be using a data set on benign (harmless) and malignant (harmful) breast tumors. In this data set, we are given some information about the tumor and the corresponding diagnosis. \n",
        "\n",
        "In this notebook, we will use Logistic Regression to predict whether a tumor is benign or malignant (label) given information about the tumor (features).\n",
        "\n",
        "In the following code boxes, we import the data from Sklearn."
      ]
    },
    {
      "cell_type": "code",
      "metadata": {
        "id": "rL7ASTj6t_oN"
      },
      "source": [
        "data = load_breast_cancer(return_X_y=True, as_frame=True) # Import data set from sklearn and store it in \"data\""
      ],
      "execution_count": null,
      "outputs": []
    },
    {
      "cell_type": "code",
      "metadata": {
        "id": "oWqkQeMEuQrP"
      },
      "source": [
        "X, y = data # \"data\" is a tuple: (X,y). This line stores the x-values in \"X\" and the y=values in \"y\".\n",
        "y = pd.DataFrame({\"diagnosis\": y}) # Convert y to a Pandas DataFrame\n",
        "\n",
        "# Store NumPy equivalents of the X and y variables\n",
        "X_np = X.values\n",
        "y_np = y.values"
      ],
      "execution_count": null,
      "outputs": []
    },
    {
      "cell_type": "markdown",
      "metadata": {
        "id": "yYEJEw_b--s2"
      },
      "source": [
        "### Quick-Look\n",
        "In the following code box, we take a quick look at both the features and the labels. Note that while the $X$ and $y$ values are Pandas Data Frames, you do not need to know about these data types for this assignment."
      ]
    },
    {
      "cell_type": "code",
      "metadata": {
        "colab": {
          "base_uri": "https://localhost:8080/",
          "height": 513
        },
        "id": "exwckHOAuXhG",
        "outputId": "c982712b-b53e-44de-c375-26758b1464ef"
      },
      "source": [
        "print(\"X-Values (Features): \")\n",
        "display(X.head())\n",
        "print(\"\\n\\nY-Value (Label): \")\n",
        "display(y.head())"
      ],
      "execution_count": null,
      "outputs": [
        {
          "output_type": "stream",
          "name": "stdout",
          "text": [
            "X-Values (Features): \n"
          ]
        },
        {
          "output_type": "display_data",
          "data": {
            "text/html": [
              "<div>\n",
              "<style scoped>\n",
              "    .dataframe tbody tr th:only-of-type {\n",
              "        vertical-align: middle;\n",
              "    }\n",
              "\n",
              "    .dataframe tbody tr th {\n",
              "        vertical-align: top;\n",
              "    }\n",
              "\n",
              "    .dataframe thead th {\n",
              "        text-align: right;\n",
              "    }\n",
              "</style>\n",
              "<table border=\"1\" class=\"dataframe\">\n",
              "  <thead>\n",
              "    <tr style=\"text-align: right;\">\n",
              "      <th></th>\n",
              "      <th>mean radius</th>\n",
              "      <th>mean texture</th>\n",
              "      <th>mean perimeter</th>\n",
              "      <th>mean area</th>\n",
              "      <th>mean smoothness</th>\n",
              "      <th>mean compactness</th>\n",
              "      <th>mean concavity</th>\n",
              "      <th>mean concave points</th>\n",
              "      <th>mean symmetry</th>\n",
              "      <th>mean fractal dimension</th>\n",
              "      <th>radius error</th>\n",
              "      <th>texture error</th>\n",
              "      <th>perimeter error</th>\n",
              "      <th>area error</th>\n",
              "      <th>smoothness error</th>\n",
              "      <th>compactness error</th>\n",
              "      <th>concavity error</th>\n",
              "      <th>concave points error</th>\n",
              "      <th>symmetry error</th>\n",
              "      <th>fractal dimension error</th>\n",
              "      <th>worst radius</th>\n",
              "      <th>worst texture</th>\n",
              "      <th>worst perimeter</th>\n",
              "      <th>worst area</th>\n",
              "      <th>worst smoothness</th>\n",
              "      <th>worst compactness</th>\n",
              "      <th>worst concavity</th>\n",
              "      <th>worst concave points</th>\n",
              "      <th>worst symmetry</th>\n",
              "      <th>worst fractal dimension</th>\n",
              "    </tr>\n",
              "  </thead>\n",
              "  <tbody>\n",
              "    <tr>\n",
              "      <th>0</th>\n",
              "      <td>17.99</td>\n",
              "      <td>10.38</td>\n",
              "      <td>122.80</td>\n",
              "      <td>1001.0</td>\n",
              "      <td>0.11840</td>\n",
              "      <td>0.27760</td>\n",
              "      <td>0.3001</td>\n",
              "      <td>0.14710</td>\n",
              "      <td>0.2419</td>\n",
              "      <td>0.07871</td>\n",
              "      <td>1.0950</td>\n",
              "      <td>0.9053</td>\n",
              "      <td>8.589</td>\n",
              "      <td>153.40</td>\n",
              "      <td>0.006399</td>\n",
              "      <td>0.04904</td>\n",
              "      <td>0.05373</td>\n",
              "      <td>0.01587</td>\n",
              "      <td>0.03003</td>\n",
              "      <td>0.006193</td>\n",
              "      <td>25.38</td>\n",
              "      <td>17.33</td>\n",
              "      <td>184.60</td>\n",
              "      <td>2019.0</td>\n",
              "      <td>0.1622</td>\n",
              "      <td>0.6656</td>\n",
              "      <td>0.7119</td>\n",
              "      <td>0.2654</td>\n",
              "      <td>0.4601</td>\n",
              "      <td>0.11890</td>\n",
              "    </tr>\n",
              "    <tr>\n",
              "      <th>1</th>\n",
              "      <td>20.57</td>\n",
              "      <td>17.77</td>\n",
              "      <td>132.90</td>\n",
              "      <td>1326.0</td>\n",
              "      <td>0.08474</td>\n",
              "      <td>0.07864</td>\n",
              "      <td>0.0869</td>\n",
              "      <td>0.07017</td>\n",
              "      <td>0.1812</td>\n",
              "      <td>0.05667</td>\n",
              "      <td>0.5435</td>\n",
              "      <td>0.7339</td>\n",
              "      <td>3.398</td>\n",
              "      <td>74.08</td>\n",
              "      <td>0.005225</td>\n",
              "      <td>0.01308</td>\n",
              "      <td>0.01860</td>\n",
              "      <td>0.01340</td>\n",
              "      <td>0.01389</td>\n",
              "      <td>0.003532</td>\n",
              "      <td>24.99</td>\n",
              "      <td>23.41</td>\n",
              "      <td>158.80</td>\n",
              "      <td>1956.0</td>\n",
              "      <td>0.1238</td>\n",
              "      <td>0.1866</td>\n",
              "      <td>0.2416</td>\n",
              "      <td>0.1860</td>\n",
              "      <td>0.2750</td>\n",
              "      <td>0.08902</td>\n",
              "    </tr>\n",
              "    <tr>\n",
              "      <th>2</th>\n",
              "      <td>19.69</td>\n",
              "      <td>21.25</td>\n",
              "      <td>130.00</td>\n",
              "      <td>1203.0</td>\n",
              "      <td>0.10960</td>\n",
              "      <td>0.15990</td>\n",
              "      <td>0.1974</td>\n",
              "      <td>0.12790</td>\n",
              "      <td>0.2069</td>\n",
              "      <td>0.05999</td>\n",
              "      <td>0.7456</td>\n",
              "      <td>0.7869</td>\n",
              "      <td>4.585</td>\n",
              "      <td>94.03</td>\n",
              "      <td>0.006150</td>\n",
              "      <td>0.04006</td>\n",
              "      <td>0.03832</td>\n",
              "      <td>0.02058</td>\n",
              "      <td>0.02250</td>\n",
              "      <td>0.004571</td>\n",
              "      <td>23.57</td>\n",
              "      <td>25.53</td>\n",
              "      <td>152.50</td>\n",
              "      <td>1709.0</td>\n",
              "      <td>0.1444</td>\n",
              "      <td>0.4245</td>\n",
              "      <td>0.4504</td>\n",
              "      <td>0.2430</td>\n",
              "      <td>0.3613</td>\n",
              "      <td>0.08758</td>\n",
              "    </tr>\n",
              "    <tr>\n",
              "      <th>3</th>\n",
              "      <td>11.42</td>\n",
              "      <td>20.38</td>\n",
              "      <td>77.58</td>\n",
              "      <td>386.1</td>\n",
              "      <td>0.14250</td>\n",
              "      <td>0.28390</td>\n",
              "      <td>0.2414</td>\n",
              "      <td>0.10520</td>\n",
              "      <td>0.2597</td>\n",
              "      <td>0.09744</td>\n",
              "      <td>0.4956</td>\n",
              "      <td>1.1560</td>\n",
              "      <td>3.445</td>\n",
              "      <td>27.23</td>\n",
              "      <td>0.009110</td>\n",
              "      <td>0.07458</td>\n",
              "      <td>0.05661</td>\n",
              "      <td>0.01867</td>\n",
              "      <td>0.05963</td>\n",
              "      <td>0.009208</td>\n",
              "      <td>14.91</td>\n",
              "      <td>26.50</td>\n",
              "      <td>98.87</td>\n",
              "      <td>567.7</td>\n",
              "      <td>0.2098</td>\n",
              "      <td>0.8663</td>\n",
              "      <td>0.6869</td>\n",
              "      <td>0.2575</td>\n",
              "      <td>0.6638</td>\n",
              "      <td>0.17300</td>\n",
              "    </tr>\n",
              "    <tr>\n",
              "      <th>4</th>\n",
              "      <td>20.29</td>\n",
              "      <td>14.34</td>\n",
              "      <td>135.10</td>\n",
              "      <td>1297.0</td>\n",
              "      <td>0.10030</td>\n",
              "      <td>0.13280</td>\n",
              "      <td>0.1980</td>\n",
              "      <td>0.10430</td>\n",
              "      <td>0.1809</td>\n",
              "      <td>0.05883</td>\n",
              "      <td>0.7572</td>\n",
              "      <td>0.7813</td>\n",
              "      <td>5.438</td>\n",
              "      <td>94.44</td>\n",
              "      <td>0.011490</td>\n",
              "      <td>0.02461</td>\n",
              "      <td>0.05688</td>\n",
              "      <td>0.01885</td>\n",
              "      <td>0.01756</td>\n",
              "      <td>0.005115</td>\n",
              "      <td>22.54</td>\n",
              "      <td>16.67</td>\n",
              "      <td>152.20</td>\n",
              "      <td>1575.0</td>\n",
              "      <td>0.1374</td>\n",
              "      <td>0.2050</td>\n",
              "      <td>0.4000</td>\n",
              "      <td>0.1625</td>\n",
              "      <td>0.2364</td>\n",
              "      <td>0.07678</td>\n",
              "    </tr>\n",
              "  </tbody>\n",
              "</table>\n",
              "</div>"
            ],
            "text/plain": [
              "   mean radius  mean texture  ...  worst symmetry  worst fractal dimension\n",
              "0        17.99         10.38  ...          0.4601                  0.11890\n",
              "1        20.57         17.77  ...          0.2750                  0.08902\n",
              "2        19.69         21.25  ...          0.3613                  0.08758\n",
              "3        11.42         20.38  ...          0.6638                  0.17300\n",
              "4        20.29         14.34  ...          0.2364                  0.07678\n",
              "\n",
              "[5 rows x 30 columns]"
            ]
          },
          "metadata": {}
        },
        {
          "output_type": "stream",
          "name": "stdout",
          "text": [
            "\n",
            "\n",
            "Y-Value (Label): \n"
          ]
        },
        {
          "output_type": "display_data",
          "data": {
            "text/html": [
              "<div>\n",
              "<style scoped>\n",
              "    .dataframe tbody tr th:only-of-type {\n",
              "        vertical-align: middle;\n",
              "    }\n",
              "\n",
              "    .dataframe tbody tr th {\n",
              "        vertical-align: top;\n",
              "    }\n",
              "\n",
              "    .dataframe thead th {\n",
              "        text-align: right;\n",
              "    }\n",
              "</style>\n",
              "<table border=\"1\" class=\"dataframe\">\n",
              "  <thead>\n",
              "    <tr style=\"text-align: right;\">\n",
              "      <th></th>\n",
              "      <th>diagnosis</th>\n",
              "    </tr>\n",
              "  </thead>\n",
              "  <tbody>\n",
              "    <tr>\n",
              "      <th>0</th>\n",
              "      <td>0</td>\n",
              "    </tr>\n",
              "    <tr>\n",
              "      <th>1</th>\n",
              "      <td>0</td>\n",
              "    </tr>\n",
              "    <tr>\n",
              "      <th>2</th>\n",
              "      <td>0</td>\n",
              "    </tr>\n",
              "    <tr>\n",
              "      <th>3</th>\n",
              "      <td>0</td>\n",
              "    </tr>\n",
              "    <tr>\n",
              "      <th>4</th>\n",
              "      <td>0</td>\n",
              "    </tr>\n",
              "  </tbody>\n",
              "</table>\n",
              "</div>"
            ],
            "text/plain": [
              "   diagnosis\n",
              "0          0\n",
              "1          0\n",
              "2          0\n",
              "3          0\n",
              "4          0"
            ]
          },
          "metadata": {}
        }
      ]
    },
    {
      "cell_type": "markdown",
      "metadata": {
        "id": "Wvo-vBXwx1Gs"
      },
      "source": [
        "## Data set Features\n",
        "Here is some information about the features and labels of our data set. This information is from [Sklearn](https://scikit-learn.org/stable/datasets/toy_dataset.html#breast-cancer-dataset), the provider of this data.\n",
        "\n",
        "**X-Values (Features)**\n",
        "- Radius: Mean of distances from center to points on the perimeter\n",
        "- Texture: Standard deviation of gray-scale values\n",
        "- Perimeter\n",
        "- Area\n",
        "- Smoothness: Local variation in radius lengths\n",
        "- Compactness: Calculated as (perimeter^2 / area - 1.0)\n",
        "- Concavity: Severity of concave portions of the contour\n",
        "- Concave Points: Number of concave portions of the contour\n",
        "- Symmetry\n",
        "- Fractal Dimension: (“coastline approximation” - 1)\n",
        "- The mean, standard error, and “worst” or largest (mean of the three worst/largest values) of these features were computed for each image, resulting in 30 features. For instance, field 0 is Mean Radius, field 10 is Radius SE, field 20 is Worst Radius.\n",
        "\n",
        "**Y-Value (Label)**\n",
        "- Label: Diagnosis (Benign or Malignant)\n",
        "\n",
        "**Additional Information**\n",
        "- Number of Examples: 569\n",
        "- Number of examples for Benign: 357\n",
        "- Number of examples for Malignant: 212\n",
        "- Features: 30"
      ]
    },
    {
      "cell_type": "code",
      "metadata": {
        "colab": {
          "base_uri": "https://localhost:8080/"
        },
        "id": "aRF-_hlH3eLW",
        "outputId": "c73ba69b-4d2b-45d0-9905-00d52ad29657"
      },
      "source": [
        "m = X.shape[0]\n",
        "n = X.shape[1]\n",
        "print(\"Number of examples: \" + str(m))\n",
        "print(\"Number of features: \" + str(n))"
      ],
      "execution_count": null,
      "outputs": [
        {
          "output_type": "stream",
          "name": "stdout",
          "text": [
            "Number of examples: 569\n",
            "Number of features: 30\n"
          ]
        }
      ]
    },
    {
      "cell_type": "markdown",
      "metadata": {
        "id": "YreZ6LzP_n9I"
      },
      "source": [
        "## Data set Shape\n",
        "In the last code box, we found that our data set has 569 examples and 30 features. This kind of familiarity with the data set is always nice to know before creating the Machine Learning model. "
      ]
    },
    {
      "cell_type": "markdown",
      "metadata": {
        "id": "n61cKWkx2Rp5"
      },
      "source": [
        "## Separating Train and Test Sets\n",
        "There are 569 examples in our data set. We will use about 80% of this data for training our Linear Regression model, and the remaining 20% of the data to evaluate our model. \n",
        "\n",
        "In the following code box, we split the data set into train and test sets. We will also keep NumPy array versions of the $X$ and $y$ values for training our model."
      ]
    },
    {
      "cell_type": "code",
      "metadata": {
        "colab": {
          "base_uri": "https://localhost:8080/"
        },
        "id": "uN0ToM_S4nEO",
        "outputId": "03075c44-7ac1-4471-bab3-d759c325511f"
      },
      "source": [
        "X_train, X_test, y_train, y_test = train_test_split(X, y, train_size=0.8, random_state=0)\n",
        "\n",
        "# For the NumPy versions of the variables, we transpose them so that the examples are in the columns\n",
        "X_train_np = X_train.values.T\n",
        "X_test_np = X_test.values.T\n",
        "y_train_np = y_train.values.T\n",
        "y_test_np = y_test.values.T\n",
        "\n",
        "m_train = X_train.shape[0]\n",
        "m_test = X_test.shape[0]\n",
        "\n",
        "print(\"Number of examples in train set: \" + str(m_train))\n",
        "print(\"Number of examples in test set:\\t \" + str(m_test))"
      ],
      "execution_count": null,
      "outputs": [
        {
          "output_type": "stream",
          "name": "stdout",
          "text": [
            "Number of examples in train set: 455\n",
            "Number of examples in test set:\t 114\n"
          ]
        }
      ]
    },
    {
      "cell_type": "markdown",
      "metadata": {
        "id": "DN4NjVCCmzqQ"
      },
      "source": [
        "## Normalization\n",
        "For Linear Regression, we must **normalize** our values. In this case, that means bringing the mean to 0 and the standard deviation to 1 using the following code box. Note that we only do this for the X-Values (Features)."
      ]
    },
    {
      "cell_type": "code",
      "metadata": {
        "id": "TdphP6yDnHi6"
      },
      "source": [
        "# X_train_np normalization\n",
        "X_train_np_mean = np.mean(X_train_np, axis=0)\n",
        "X_train_np_std = np.std(X_train_np, axis=0)\n",
        "X_train_np_norm = (X_train_np - X_train_np_mean)/X_train_np_std\n",
        "\n",
        "# X_test_np normalization\n",
        "X_test_np_mean = np.mean(X_test_np, axis=0)\n",
        "X_test_np_std = np.std(X_test_np, axis=0)\n",
        "X_test_np_norm = (X_test_np - X_test_np_mean)/X_test_np_std"
      ],
      "execution_count": null,
      "outputs": []
    },
    {
      "cell_type": "markdown",
      "metadata": {
        "id": "r9ZYV-sZ0SXG"
      },
      "source": [
        "## Gradient Descent\n",
        "Now we will move onto the Logistic Regression model. For Logistic Regression, we use Gradient Descent. These are the steps of Gradient Descent (the parameter initialization is specific to Logistic Regression, but most of these steps are applied to (mostly) all types of Machine Learning and Deep Learning algorithms): \n",
        "1. Initialize Parameters\n",
        "> For Logistic Regression, we initialize all parameters to 0.\n",
        "2. Hypothesis Function\n",
        "> Use the paramters and input features to compute the hypothesis $\\hat{y}$. \n",
        "3. Cost Function\n",
        "> Use the prediction $\\hat{y}$ and the real label $y$ to compute the Binary Cross Entropy (Cross Entropy) cost function.\n",
        "4. Parameter Update\n",
        "> Compute the parameter update for all parameters and update them using the appropriate learning rate $\\alpha$ (alpha).\n",
        "5. Repeat!\n",
        "> Repeat Steps 2-4 many times until the cost is sufficiently low.\n",
        "\n",
        "In the following code boxes, we will write code for each of these steps. In the end, we will put these together to train the Logistic Regression model."
      ]
    },
    {
      "cell_type": "markdown",
      "metadata": {
        "id": "wMBuahTx5fPT"
      },
      "source": [
        "### 1. Initialize Parameters\n",
        "Since there are 30 features, we will have 31 parameters (weights). \n",
        "\n",
        "We will initialize 30 of these to 0 and store them in $W$. Remember, $W$ should be a row vector, so its shape should be $(1,30)$.\n",
        "\n",
        "There is also 1 bias parameter which we will call $b$. We will also initialize this to 0.\n",
        "\n",
        "Therefore, there are 31 parameters total. In the following code box, we create a function that initializes the parameters."
      ]
    },
    {
      "cell_type": "code",
      "metadata": {
        "id": "k1J-DaXe2CPh"
      },
      "source": [
        "def initialize_parameters():\n",
        "  W = np.zeros((1,30))\n",
        "  b = 0\n",
        "  return W, b"
      ],
      "execution_count": null,
      "outputs": []
    },
    {
      "cell_type": "markdown",
      "metadata": {
        "id": "ZbKQoWSg6-VI"
      },
      "source": [
        "### 2. Hypothesis Function\n",
        "Recall that the hypothesis function for Logistic Regression is:\n",
        "$$\\hat{\\textbf{Y}}=h(\\textbf{X},b,\\textbf{W})=\\sigma(\\textbf{W}\\times \\textbf{X} + b),$$\n",
        "where $\\times$ represents matrix multiplication. First, we create the sigmoid function. Mathematically, this function is:\n",
        "$$\\sigma(x) = \\frac{1}{1+e^{-x}}.$$\n",
        "In Python code, this is:\n",
        "```\n",
        "def sigmoid(x):\n",
        "  return 1/(1+e**(-x))\n",
        "```\n",
        "Then, we use this function to create the hypothesis function. In Python code, the hypothesis function would be:\n",
        "```\n",
        "y_hat = sigmoid(np.dot(W, X) + b)\n",
        "```\n",
        "In the next code box, we create the sigmoid function. In the code box after that, we implement the hypothesis function.\n"
      ]
    },
    {
      "cell_type": "code",
      "metadata": {
        "id": "bTE8YhdbHyM0"
      },
      "source": [
        "def sigmoid(x):\n",
        "  return 1/(1+math.e**(-x))"
      ],
      "execution_count": null,
      "outputs": []
    },
    {
      "cell_type": "code",
      "metadata": {
        "id": "Z53op74b692c"
      },
      "source": [
        "def hypothesis(X, b, W):\n",
        "  y_hat = sigmoid(np.dot(W, X) + b)\n",
        "  return y_hat"
      ],
      "execution_count": null,
      "outputs": []
    },
    {
      "cell_type": "markdown",
      "metadata": {
        "id": "b6fzCWODTx_1"
      },
      "source": [
        "### 3. Cost Function\n",
        "Now, we define the cost function using $\\hat{\\textbf{Y}}$ and $\\textbf{Y}$. Remember, when $\\hat{\\textbf{Y}}$ and $\\textbf{Y}$ are matrices, the cost function is defined as follows:\n",
        "$$J(\\textbf{X},b,\\textbf{W})=-\\frac{1}{m}\\left[\\textbf{Y}\\log{\\hat{\\textbf{Y}}}+(1-\\textbf{Y})\\log{(1-\\hat{\\textbf{Y}})}\\right],$$\n",
        "where ''$-$'' and the squaring operation represent element-wise subtraction and squaring. Note that \"log\" is the natural log function with base $e$. In Python code, this would be:\n",
        "```\n",
        "J = - 1/(m) * (y*np.log(y_hat) + (1-y)*np.log(1-y_hat))\n",
        "```\n",
        "(Sidenote: For the Python function, instead of passing in $\\textbf{X}$, $b$, and $\\textbf{W}$, we will simply pass in $\\hat{\\textbf{Y}}$ (which we computed in the last step). Additionally, we will pass in $\\textbf{Y}$ and $m$.) \n",
        "\n",
        "In the next code box, we create the cost function."
      ]
    },
    {
      "cell_type": "code",
      "metadata": {
        "id": "pi_Qp5aX65U0"
      },
      "source": [
        "def cost(y_hat, y, m):\n",
        "  J = - 1/m * np.sum(y*np.log(y_hat) + (1-y)*np.log(1-y_hat))\n",
        "  return J"
      ],
      "execution_count": null,
      "outputs": []
    },
    {
      "cell_type": "markdown",
      "metadata": {
        "id": "x1vN90SqWDGx"
      },
      "source": [
        "### 4. Parameter Update\n",
        "After computing the cost, we have to adjust our parameters. Recall that the parameter update for $\\textbf{W}$ is:\n",
        "$$W:=W-\\alpha\\cdot \\frac{dJ}{d\\textbf{W}}.$$\n",
        "Similarly, this is how we update $b$:\n",
        "$$b:=b-\\alpha\\cdot \\frac{dJ}{db}.$$\n",
        "Additionally, here are the values for $\\frac{dJ}{d\\textbf{W}}$ and $\\frac{dJ}{db}$:\n",
        "\n",
        "\\begin{align*}\n",
        "\\frac{dJ}{d\\textbf{W}}&=-\\frac{1}{m}\\cdot \\left[\\frac{\\textbf{Y}}{\\hat{\\textbf{Y}}}+\\frac{1-\\textbf{Y}}{1-\\hat{\\textbf{Y}}}\\right]\\cdot \\hat{\\textbf{Y}}\\cdot (1-\\hat{\\textbf{Y}})\\times \\textbf{X}^T\\\\\n",
        "\\frac{dJ}{db}&=-\\frac{1}{m}\\cdot \\text{sum}\\left[\\left(\\frac{\\textbf{Y}}{\\hat{\\textbf{Y}}}+\\frac{1-\\textbf{Y}}{1-\\hat{\\textbf{Y}}}\\right)\\cdot \\hat{\\textbf{Y}}\\cdot (1-\\hat{\\textbf{Y}})\\right]\n",
        "\\end{align*}\n",
        "\n",
        "In Python code, these 4 equations would be:\n",
        "```\n",
        "W = W - alpha * dJdW\n",
        "b = b - alpha * dJdb\n",
        "dJdW = - 1/m * np.dot((y*y_hat + (1-y)*(1-y_hat)) * y_hat * (1 - y_hat), X.T)\n",
        "dJdb = - 1/m * np.sum((y*y_hat + (1-y)*(1-y_hat)) * y_hat * (1 - y_hat))\n",
        "```\n",
        "Note that in Python, we will run the last two lines of codes first (otherwise we will get an error). In the next code box, we create a function to update our parameters. "
      ]
    },
    {
      "cell_type": "code",
      "metadata": {
        "id": "8kMIa6y7WBxe"
      },
      "source": [
        "def parameter_update(X, y_hat, y, m, alpha, W, b):\n",
        "  dJdW = - 1/m * np.dot((y*y_hat + (1-y)*(1-y_hat)) * y_hat * (1 - y_hat), X.T)\n",
        "  dJdb = - 1/m * np.sum((y*y_hat + (1-y)*(1-y_hat)) * y_hat * (1 - y_hat))\n",
        "\n",
        "  W = W - alpha * dJdW\n",
        "  b = b - alpha * dJdb\n",
        "\n",
        "  return W, b"
      ],
      "execution_count": null,
      "outputs": []
    },
    {
      "cell_type": "markdown",
      "metadata": {
        "id": "5QJ3XB7naBVb"
      },
      "source": [
        "### Put it all together!\n",
        "We will now do Step 5 of Gradient Descent (Repeat!) by putting all of the previous functions together into a model function. This is what we will do in this function:\n",
        "1. Initialize Parameters\n",
        "\n",
        "For as many iterations as we chose to train our model:\n",
        "2. Compute Hypothesis\n",
        "3. Compute Cost Function\n",
        "4. Update Parameters\n",
        "\n",
        "Finally, we return the learned parameters $\\textbf{W}$ and $b$. While training the model, we will print the cost on the train set every few iterations and, along with this, the cost on the test set. We will keep track of these costs and return some values that are helpful in graphing our performance.\n",
        "\n",
        "In the following code box, we create the model function."
      ]
    },
    {
      "cell_type": "code",
      "metadata": {
        "id": "ds0BRYr1aAvw"
      },
      "source": [
        "def model(X_train, y_train, m_train, X_test, y_test, m_test, alpha=0.1, iterations=1000):\n",
        "  # Initialize Parameters\n",
        "  W, b = initialize_parameters()\n",
        "\n",
        "  # Keep track of costs for train and test sets\n",
        "  iteration_nums = [] # X-value for performance graph\n",
        "  costs_train = []\n",
        "  costs_test = []\n",
        "\n",
        "  # Repeat the following steps of Gradient Descent using a for-loop\n",
        "  for i in range(iterations):\n",
        "    # Compute Hypothesis\n",
        "    y_hat = hypothesis(X_train, b, W)\n",
        "\n",
        "    # Compute Cost Function for train set and test set and print this out\n",
        "    # Only do this once every 100 iterations\n",
        "    if i % 100 == 0:\n",
        "      iteration_nums.append(i) # Add iteration number to list of iteration numbers\n",
        "      cost_train = cost(y_hat, y_train, m_train) # Compute cost for train set\n",
        "      costs_train.append(cost_train) # Add cost to list of train costs\n",
        "      y_hat_test = hypothesis(X_test, b, W) # Compute hypothesis for test set\n",
        "      cost_test = cost(y_hat_test, y_test, m_test) # Compute cost for test set\n",
        "      costs_test.append(cost_test) # Add cost to list of test costs\n",
        "      print(\"\\n\\nIteration \" + str(i))\n",
        "      print(\"Train set cost: \" + str(cost_train))\n",
        "      print(\"Test set cost: \" + str(cost_test))\n",
        "    \n",
        "    # Update Parameters\n",
        "    W, b = parameter_update(X_train, y_hat, y_train, m_train, alpha, W, b)\n",
        "  \n",
        "  # Print final costs for train and test sets\n",
        "  iteration_nums.append(iterations) # Add iteration number to list of iteration numbers\n",
        "  y_hat = hypothesis(X_train, b, W) # Compute hypothesis for train set\n",
        "  cost_train = cost(y_hat, y_train, m_train) # Compute cost for train set\n",
        "  costs_train.append(cost_train) # Add cost to list of train costs\n",
        "  y_hat_test = hypothesis(X_test, b, W) # Compute hypothesis for test set\n",
        "  cost_test = cost(y_hat_test, y_test, m_test) # Compute cost for test set\n",
        "  costs_test.append(cost_test) # Add cost to list of test costs\n",
        "  print(\"\\n\\n\")\n",
        "  print(\"Final train set cost: \" + str(cost_train))\n",
        "  print(\"Final test set cost: \" + str(cost_test))\n",
        "\n",
        "  # Return learned parameters\n",
        "  return W, b, iteration_nums, costs_train, costs_test"
      ],
      "execution_count": null,
      "outputs": []
    },
    {
      "cell_type": "markdown",
      "metadata": {
        "id": "4xnX2ogahvbr"
      },
      "source": [
        "## Training the Model\n",
        "Finally, we get to train the Logistic Regression model. In the next code box, we run the model function with the appropriate arguments and store the learned parameters in the variables $\\textbf{W}$ and $b$. Note that we feed in the NumPy version of all variables to avoid any errors."
      ]
    },
    {
      "cell_type": "code",
      "metadata": {
        "colab": {
          "base_uri": "https://localhost:8080/"
        },
        "id": "CJEz-5cHaAJB",
        "outputId": "2dfbbcf9-39d9-4f61-8f53-148144df1e8b"
      },
      "source": [
        "W, b, iteration_nums, costs_train, costs_test = model(X_train=X_train_np_norm, y_train=y_train_np, m_train=m_train, X_test=X_test_np_norm, y_test=y_test_np, m_test=m_test, alpha=1e-5, iterations=10000)"
      ],
      "execution_count": null,
      "outputs": [
        {
          "output_type": "stream",
          "name": "stdout",
          "text": [
            "\n",
            "\n",
            "Iteration 0\n",
            "Train set cost: 0.6931471805599453\n",
            "Test set cost: 0.6931471805599453\n",
            "\n",
            "\n",
            "Iteration 100\n",
            "Train set cost: 0.6926168394928924\n",
            "Test set cost: 0.692808856963245\n",
            "\n",
            "\n",
            "Iteration 200\n",
            "Train set cost: 0.6920899270448324\n",
            "Test set cost: 0.6924740636550372\n",
            "\n",
            "\n",
            "Iteration 300\n",
            "Train set cost: 0.6915664527896891\n",
            "Test set cost: 0.6921428088307883\n",
            "\n",
            "\n",
            "Iteration 400\n",
            "Train set cost: 0.6910464261862582\n",
            "Test set cost: 0.691815100564864\n",
            "\n",
            "\n",
            "Iteration 500\n",
            "Train set cost: 0.6905298565771698\n",
            "Test set cost: 0.6914909468095597\n",
            "\n",
            "\n",
            "Iteration 600\n",
            "Train set cost: 0.6900167531878579\n",
            "Test set cost: 0.6911703553941437\n",
            "\n",
            "\n",
            "Iteration 700\n",
            "Train set cost: 0.6895071251255471\n",
            "Test set cost: 0.690853334023914\n",
            "\n",
            "\n",
            "Iteration 800\n",
            "Train set cost: 0.6890009813782448\n",
            "Test set cost: 0.6905398902792677\n",
            "\n",
            "\n",
            "Iteration 900\n",
            "Train set cost: 0.6884983308137522\n",
            "Test set cost: 0.6902300316147812\n",
            "\n",
            "\n",
            "Iteration 1000\n",
            "Train set cost: 0.6879991821786817\n",
            "Test set cost: 0.6899237653583078\n",
            "\n",
            "\n",
            "Iteration 1100\n",
            "Train set cost: 0.6875035440974908\n",
            "Test set cost: 0.689621098710084\n",
            "\n",
            "\n",
            "Iteration 1200\n",
            "Train set cost: 0.6870114250715268\n",
            "Test set cost: 0.6893220387418532\n",
            "\n",
            "\n",
            "Iteration 1300\n",
            "Train set cost: 0.6865228334780853\n",
            "Test set cost: 0.6890265923960013\n",
            "\n",
            "\n",
            "Iteration 1400\n",
            "Train set cost: 0.6860377775694817\n",
            "Test set cost: 0.6887347664847071\n",
            "\n",
            "\n",
            "Iteration 1500\n",
            "Train set cost: 0.6855562654721372\n",
            "Test set cost: 0.6884465676891065\n",
            "\n",
            "\n",
            "Iteration 1600\n",
            "Train set cost: 0.6850783051856763\n",
            "Test set cost: 0.6881620025584729\n",
            "\n",
            "\n",
            "Iteration 1700\n",
            "Train set cost: 0.6846039045820405\n",
            "Test set cost: 0.68788107750941\n",
            "\n",
            "\n",
            "Iteration 1800\n",
            "Train set cost: 0.6841330714046144\n",
            "Test set cost: 0.6876037988250605\n",
            "\n",
            "\n",
            "Iteration 1900\n",
            "Train set cost: 0.6836658132673691\n",
            "Test set cost: 0.6873301726543322\n",
            "\n",
            "\n",
            "Iteration 2000\n",
            "Train set cost: 0.6832021376540152\n",
            "Test set cost: 0.6870602050111347\n",
            "\n",
            "\n",
            "Iteration 2100\n",
            "Train set cost: 0.6827420519171764\n",
            "Test set cost: 0.6867939017736365\n",
            "\n",
            "\n",
            "Iteration 2200\n",
            "Train set cost: 0.6822855632775732\n",
            "Test set cost: 0.6865312686835355\n",
            "\n",
            "\n",
            "Iteration 2300\n",
            "Train set cost: 0.6818326788232251\n",
            "Test set cost: 0.6862723113453454\n",
            "\n",
            "\n",
            "Iteration 2400\n",
            "Train set cost: 0.6813834055086667\n",
            "Test set cost: 0.6860170352256989\n",
            "\n",
            "\n",
            "Iteration 2500\n",
            "Train set cost: 0.6809377501541801\n",
            "Test set cost: 0.6857654456526676\n",
            "\n",
            "\n",
            "Iteration 2600\n",
            "Train set cost: 0.6804957194450421\n",
            "Test set cost: 0.6855175478150971\n",
            "\n",
            "\n",
            "Iteration 2700\n",
            "Train set cost: 0.6800573199307891\n",
            "Test set cost: 0.6852733467619603\n",
            "\n",
            "\n",
            "Iteration 2800\n",
            "Train set cost: 0.6796225580244963\n",
            "Test set cost: 0.685032847401727\n",
            "\n",
            "\n",
            "Iteration 2900\n",
            "Train set cost: 0.6791914400020753\n",
            "Test set cost: 0.6847960545017485\n",
            "\n",
            "\n",
            "Iteration 3000\n",
            "Train set cost: 0.6787639720015857\n",
            "Test set cost: 0.6845629726876657\n",
            "\n",
            "\n",
            "Iteration 3100\n",
            "Train set cost: 0.6783401600225664\n",
            "Test set cost: 0.6843336064428254\n",
            "\n",
            "\n",
            "Iteration 3200\n",
            "Train set cost: 0.6779200099253815\n",
            "Test set cost: 0.6841079601077221\n",
            "\n",
            "\n",
            "Iteration 3300\n",
            "Train set cost: 0.6775035274305842\n",
            "Test set cost: 0.6838860378794537\n",
            "\n",
            "\n",
            "Iteration 3400\n",
            "Train set cost: 0.6770907181182985\n",
            "Test set cost: 0.6836678438111948\n",
            "\n",
            "\n",
            "Iteration 3500\n",
            "Train set cost: 0.6766815874276165\n",
            "Test set cost: 0.6834533818116912\n",
            "\n",
            "\n",
            "Iteration 3600\n",
            "Train set cost: 0.6762761406560154\n",
            "Test set cost: 0.6832426556447677\n",
            "\n",
            "\n",
            "Iteration 3700\n",
            "Train set cost: 0.6758743829587907\n",
            "Test set cost: 0.6830356689288581\n",
            "\n",
            "\n",
            "Iteration 3800\n",
            "Train set cost: 0.675476319348508\n",
            "Test set cost: 0.6828324251365521\n",
            "\n",
            "\n",
            "Iteration 3900\n",
            "Train set cost: 0.6750819546944726\n",
            "Test set cost: 0.6826329275941603\n",
            "\n",
            "\n",
            "Iteration 4000\n",
            "Train set cost: 0.6746912937222169\n",
            "Test set cost: 0.682437179481299\n",
            "\n",
            "\n",
            "Iteration 4100\n",
            "Train set cost: 0.6743043410130061\n",
            "Test set cost: 0.6822451838304933\n",
            "\n",
            "\n",
            "Iteration 4200\n",
            "Train set cost: 0.6739211010033634\n",
            "Test set cost: 0.6820569435267975\n",
            "\n",
            "\n",
            "Iteration 4300\n",
            "Train set cost: 0.6735415779846118\n",
            "Test set cost: 0.6818724613074368\n",
            "\n",
            "\n",
            "Iteration 4400\n",
            "Train set cost: 0.6731657761024362\n",
            "Test set cost: 0.681691739761468\n",
            "\n",
            "\n",
            "Iteration 4500\n",
            "Train set cost: 0.6727936993564637\n",
            "Test set cost: 0.6815147813294559\n",
            "\n",
            "\n",
            "Iteration 4600\n",
            "Train set cost: 0.6724253515998616\n",
            "Test set cost: 0.6813415883031746\n",
            "\n",
            "\n",
            "Iteration 4700\n",
            "Train set cost: 0.6720607365389557\n",
            "Test set cost: 0.6811721628253217\n",
            "\n",
            "\n",
            "Iteration 4800\n",
            "Train set cost: 0.6716998577328687\n",
            "Test set cost: 0.6810065068892583\n",
            "\n",
            "\n",
            "Iteration 4900\n",
            "Train set cost: 0.6713427185931741\n",
            "Test set cost: 0.6808446223387639\n",
            "\n",
            "\n",
            "Iteration 5000\n",
            "Train set cost: 0.6709893223835727\n",
            "Test set cost: 0.6806865108678117\n",
            "\n",
            "\n",
            "Iteration 5100\n",
            "Train set cost: 0.6706396722195871\n",
            "Test set cost: 0.680532174020366\n",
            "\n",
            "\n",
            "Iteration 5200\n",
            "Train set cost: 0.6702937710682759\n",
            "Test set cost: 0.6803816131901957\n",
            "\n",
            "\n",
            "Iteration 5300\n",
            "Train set cost: 0.6699516217479663\n",
            "Test set cost: 0.6802348296207109\n",
            "\n",
            "\n",
            "Iteration 5400\n",
            "Train set cost: 0.6696132269280075\n",
            "Test set cost: 0.680091824404816\n",
            "\n",
            "\n",
            "Iteration 5500\n",
            "Train set cost: 0.6692785891285431\n",
            "Test set cost: 0.6799525984847856\n",
            "\n",
            "\n",
            "Iteration 5600\n",
            "Train set cost: 0.6689477107203037\n",
            "Test set cost: 0.6798171526521587\n",
            "\n",
            "\n",
            "Iteration 5700\n",
            "Train set cost: 0.6686205939244177\n",
            "Test set cost: 0.6796854875476523\n",
            "\n",
            "\n",
            "Iteration 5800\n",
            "Train set cost: 0.6682972408122436\n",
            "Test set cost: 0.6795576036610966\n",
            "\n",
            "\n",
            "Iteration 5900\n",
            "Train set cost: 0.6679776533052204\n",
            "Test set cost: 0.6794335013313887\n",
            "\n",
            "\n",
            "Iteration 6000\n",
            "Train set cost: 0.6676618331747395\n",
            "Test set cost: 0.6793131807464662\n",
            "\n",
            "\n",
            "Iteration 6100\n",
            "Train set cost: 0.667349782042035\n",
            "Test set cost: 0.6791966419433028\n",
            "\n",
            "\n",
            "Iteration 6200\n",
            "Train set cost: 0.6670415013780937\n",
            "Test set cost: 0.6790838848079206\n",
            "\n",
            "\n",
            "Iteration 6300\n",
            "Train set cost: 0.6667369925035873\n",
            "Test set cost: 0.6789749090754251\n",
            "\n",
            "\n",
            "Iteration 6400\n",
            "Train set cost: 0.6664362565888209\n",
            "Test set cost: 0.678869714330059\n",
            "\n",
            "\n",
            "Iteration 6500\n",
            "Train set cost: 0.6661392946537045\n",
            "Test set cost: 0.6787683000052759\n",
            "\n",
            "\n",
            "Iteration 6600\n",
            "Train set cost: 0.6658461075677419\n",
            "Test set cost: 0.678670665383834\n",
            "\n",
            "\n",
            "Iteration 6700\n",
            "Train set cost: 0.6655566960500416\n",
            "Test set cost: 0.6785768095979109\n",
            "\n",
            "\n",
            "Iteration 6800\n",
            "Train set cost: 0.6652710606693465\n",
            "Test set cost: 0.6784867316292348\n",
            "\n",
            "\n",
            "Iteration 6900\n",
            "Train set cost: 0.6649892018440824\n",
            "Test set cost: 0.6784004303092399\n",
            "\n",
            "\n",
            "Iteration 7000\n",
            "Train set cost: 0.6647111198424285\n",
            "Test set cost: 0.6783179043192396\n",
            "\n",
            "\n",
            "Iteration 7100\n",
            "Train set cost: 0.6644368147824061\n",
            "Test set cost: 0.6782391521906176\n",
            "\n",
            "\n",
            "Iteration 7200\n",
            "Train set cost: 0.6641662866319878\n",
            "Test set cost: 0.6781641723050424\n",
            "\n",
            "\n",
            "Iteration 7300\n",
            "Train set cost: 0.6638995352092252\n",
            "Test set cost: 0.678092962894699\n",
            "\n",
            "\n",
            "Iteration 7400\n",
            "Train set cost: 0.6636365601823986\n",
            "Test set cost: 0.6780255220425394\n",
            "\n",
            "\n",
            "Iteration 7500\n",
            "Train set cost: 0.6633773610701835\n",
            "Test set cost: 0.6779618476825563\n",
            "\n",
            "\n",
            "Iteration 7600\n",
            "Train set cost: 0.6631219372418388\n",
            "Test set cost: 0.6779019376000714\n",
            "\n",
            "\n",
            "Iteration 7700\n",
            "Train set cost: 0.6628702879174133\n",
            "Test set cost: 0.6778457894320471\n",
            "\n",
            "\n",
            "Iteration 7800\n",
            "Train set cost: 0.6626224121679726\n",
            "Test set cost: 0.6777934006674153\n",
            "\n",
            "\n",
            "Iteration 7900\n",
            "Train set cost: 0.662378308915844\n",
            "Test set cost: 0.6777447686474256\n",
            "\n",
            "\n",
            "Iteration 8000\n",
            "Train set cost: 0.6621379769348825\n",
            "Test set cost: 0.677699890566014\n",
            "\n",
            "\n",
            "Iteration 8100\n",
            "Train set cost: 0.6619014148507533\n",
            "Test set cost: 0.6776587634701875\n",
            "\n",
            "\n",
            "Iteration 8200\n",
            "Train set cost: 0.6616686211412375\n",
            "Test set cost: 0.677621384260432\n",
            "\n",
            "\n",
            "Iteration 8300\n",
            "Train set cost: 0.6614395941365521\n",
            "Test set cost: 0.6775877496911344\n",
            "\n",
            "\n",
            "Iteration 8400\n",
            "Train set cost: 0.6612143320196925\n",
            "Test set cost: 0.6775578563710271\n",
            "\n",
            "\n",
            "Iteration 8500\n",
            "Train set cost: 0.6609928328267924\n",
            "Test set cost: 0.6775317007636482\n",
            "\n",
            "\n",
            "Iteration 8600\n",
            "Train set cost: 0.6607750944475026\n",
            "Test set cost: 0.6775092791878223\n",
            "\n",
            "\n",
            "Iteration 8700\n",
            "Train set cost: 0.6605611146253879\n",
            "Test set cost: 0.677490587818158\n",
            "\n",
            "\n",
            "Iteration 8800\n",
            "Train set cost: 0.6603508909583432\n",
            "Test set cost: 0.6774756226855644\n",
            "\n",
            "\n",
            "Iteration 8900\n",
            "Train set cost: 0.6601444208990283\n",
            "Test set cost: 0.6774643796777853\n",
            "\n",
            "\n",
            "Iteration 9000\n",
            "Train set cost: 0.6599417017553194\n",
            "Test set cost: 0.6774568545399516\n",
            "\n",
            "\n",
            "Iteration 9100\n",
            "Train set cost: 0.6597427306907807\n",
            "Test set cost: 0.6774530428751508\n",
            "\n",
            "\n",
            "Iteration 9200\n",
            "Train set cost: 0.6595475047251517\n",
            "Test set cost: 0.6774529401450147\n",
            "\n",
            "\n",
            "Iteration 9300\n",
            "Train set cost: 0.659356020734855\n",
            "Test set cost: 0.6774565416703242\n",
            "\n",
            "\n",
            "Iteration 9400\n",
            "Train set cost: 0.6591682754535193\n",
            "Test set cost: 0.6774638426316312\n",
            "\n",
            "\n",
            "Iteration 9500\n",
            "Train set cost: 0.6589842654725218\n",
            "Test set cost: 0.6774748380698984\n",
            "\n",
            "\n",
            "Iteration 9600\n",
            "Train set cost: 0.6588039872415461\n",
            "Test set cost: 0.6774895228871542\n",
            "\n",
            "\n",
            "Iteration 9700\n",
            "Train set cost: 0.6586274370691596\n",
            "Test set cost: 0.6775078918471671\n",
            "\n",
            "\n",
            "Iteration 9800\n",
            "Train set cost: 0.6584546111234066\n",
            "Test set cost: 0.6775299395761338\n",
            "\n",
            "\n",
            "Iteration 9900\n",
            "Train set cost: 0.6582855054324175\n",
            "Test set cost: 0.6775556605633856\n",
            "\n",
            "\n",
            "\n",
            "Final train set cost: 0.6581201158850365\n",
            "Final test set cost: 0.6775850491621099\n"
          ]
        }
      ]
    },
    {
      "cell_type": "markdown",
      "metadata": {
        "id": "qmrlGcpM6KEz"
      },
      "source": [
        "## Plotting Results\n",
        "\n",
        "Now, we plot our results to visualize how the model learned. In the following code box, we use matplotlib and the costs from the model training to create a graph with: \n",
        "\n",
        "$x$-axis: # of Iterations;\n",
        "\n",
        "$y$-axis: Cost."
      ]
    },
    {
      "cell_type": "code",
      "metadata": {
        "colab": {
          "base_uri": "https://localhost:8080/",
          "height": 295
        },
        "id": "5rOHpq4h0MAe",
        "outputId": "1933e6f4-cc1d-4fcd-83da-2915fef44867"
      },
      "source": [
        "plt.plot(iteration_nums, costs_train)\n",
        "plt.plot(iteration_nums, costs_test)\n",
        "plt.title(\"# of Iterations v.s. Cost (Binary Crossentropy Cost)\")\n",
        "plt.xlabel(\"# of Iterations\")\n",
        "plt.ylabel(\"Cost (Binary Crossentropy Cost)\")\n",
        "plt.show()"
      ],
      "execution_count": null,
      "outputs": [
        {
          "output_type": "display_data",
          "data": {
            "image/png": "[encoded data removed]",
            "text/plain": [
              "<Figure size 432x288 with 1 Axes>"
            ]
          },
          "metadata": {
            "needs_background": "light"
          }
        }
      ]
    },
    {
      "cell_type": "markdown",
      "metadata": {
        "id": "TEo4wxhQmTkP"
      },
      "source": [
        "## Making Predictions\n",
        "In the next code box, we make predictions for some value in the test set. We will print out the prediction along with the real value.\n",
        "\n",
        "Feel free to play around with this code and make predictions on different examples."
      ]
    },
    {
      "cell_type": "code",
      "metadata": {
        "colab": {
          "base_uri": "https://localhost:8080/"
        },
        "id": "dmD6UZxdmSjE",
        "outputId": "5317446d-1ac3-49e4-a526-3c3260dc093c"
      },
      "source": [
        "example_num = 10 # This is the example number. \n",
        "# Feel free to change it, but make sure that it is a non-negative number less than 114 to avoid indexing errors. \n",
        "hypothesis_example = hypothesis(X_test_np_norm[:,example_num], b, W)[0]\n",
        "real_label_example = y_test_np[:,example_num][0]\n",
        "print(\"Hypothesis: \" + str(round(hypothesis_example, 3)))\n",
        "print(\"Real Label: \" + str(round(real_label_example, 3)))"
      ],
      "execution_count": null,
      "outputs": [
        {
          "output_type": "stream",
          "name": "stdout",
          "text": [
            "Hypothesis: 1.0\n",
            "Real Label: 1\n"
          ]
        }
      ]
    },
    {
      "cell_type": "markdown",
      "metadata": {
        "id": "7mSIF7lYihR4"
      },
      "source": [
        "It turns out that the model only predicts 7 examples wrong out of 114 total examples in the test set. That's around 94% accuracy! \n",
        "\n",
        "For some applications, simple linear models will be sufficient, but many times, we wish our hypothesis function to be more complex, so we turn to Neural Networks."
      ]
    },
    {
      "cell_type": "markdown",
      "metadata": {
        "id": "yJAFl8fCCIVu"
      },
      "source": [
        "## Congratulations!\n",
        "You have now implemented a Logistic Regression model from scratch. You should be proud of yourself!\n",
        "\n",
        "The main takeaway from this assignment is the Gradient Descent algorithm, which has the following steps:\n",
        "\n",
        "1. Initialize Parameters\n",
        "2. Compute Hypothesis\n",
        "3. Compute Cost Function\n",
        "4. Update Parameters\n",
        "5. Repeat!\n",
        "\n",
        "I hope you had fun!"
      ]
    }
  ]
}