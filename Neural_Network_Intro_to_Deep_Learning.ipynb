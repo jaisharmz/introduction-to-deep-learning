{
  "nbformat": 4,
  "nbformat_minor": 0,
  "metadata": {
    "colab": {
      "name": "Neural_Network_Intro_to_Deep_Learning.ipynb",
      "provenance": [],
      "collapsed_sections": []
    },
    "kernelspec": {
      "name": "python3",
      "display_name": "Python 3"
    },
    "language_info": {
      "name": "python"
    }
  },
  "cells": [
    {
      "cell_type": "markdown",
      "metadata": {
        "id": "0Y8aACPv9xYg"
      },
      "source": [
        "# Neural Network\n",
        "## Intro to Deep Learning Class"
      ]
    },
    {
      "cell_type": "markdown",
      "metadata": {
        "id": "kXb8z-EkuARS"
      },
      "source": [
        "## Importing Libraries\n",
        "Before we start, let's import some necessary libraries we will be using."
      ]
    },
    {
      "cell_type": "code",
      "metadata": {
        "id": "hBKcmplftezQ"
      },
      "source": [
        "import numpy as np # NumPy\n",
        "import pandas as pd # Pandas\n",
        "import matplotlib.pyplot as plt # Matplotlib\n",
        "from IPython.display import display # For displaying the Pandas DataFrame\n",
        "import math # Math library\n",
        "from tensorflow.keras.datasets import mnist # For loading the data set\n",
        "from sklearn.model_selection import train_test_split # For splitting the data set into train and test sets\n",
        "from sklearn.preprocessing import OneHotEncoder # To one-hot encode the y-values"
      ],
      "execution_count": null,
      "outputs": []
    },
    {
      "cell_type": "markdown",
      "metadata": {
        "id": "W2XiILZAy4Go"
      },
      "source": [
        "## Import Data set from Tensorflow\n",
        "We will be using a data set on hand-written digits. In this data set, we are given some information about the pixel values of a picture with a numerical digit and the corresponding number. \n",
        "\n",
        "In this notebook, we will use Neural Networks to predict what number a hand-written digit is.\n",
        "\n",
        "In the following code box, we import the data from Tensorflow."
      ]
    },
    {
      "cell_type": "code",
      "metadata": {
        "id": "NR89YDDUvhce",
        "colab": {
          "base_uri": "https://localhost:8080/"
        },
        "outputId": "5740e01d-3207-45fb-b212-79f62f3ef7f2"
      },
      "source": [
        "one_hot = OneHotEncoder(sparse=False)\n",
        "(x_train, y_train), (x_test, y_test) = mnist.load_data()\n",
        "x_train = x_train.reshape(x_train.shape[0], -1).T\n",
        "x_test = x_test.reshape(x_test.shape[0], -1).T\n",
        "y_train = y_train.reshape(-1,1)\n",
        "y_train = one_hot.fit_transform(y_train).T\n",
        "y_test = y_test.reshape(-1,1)\n",
        "y_test = one_hot.transform(y_test).T"
      ],
      "execution_count": null,
      "outputs": [
        {
          "output_type": "stream",
          "text": [
            "Downloading data from https://storage.googleapis.com/tensorflow/tf-keras-datasets/mnist.npz\n",
            "11493376/11490434 [==============================] - 0s 0us/step\n"
          ],
          "name": "stdout"
        }
      ]
    },
    {
      "cell_type": "markdown",
      "metadata": {
        "id": "yYEJEw_b--s2"
      },
      "source": [
        "### Quick-Look\n",
        "In the following code box, we take a quick look at one of the images."
      ]
    },
    {
      "cell_type": "code",
      "metadata": {
        "colab": {
          "base_uri": "https://localhost:8080/",
          "height": 282
        },
        "id": "exwckHOAuXhG",
        "outputId": "4af76fc0-8a59-4a56-b105-17bbd8a1e584"
      },
      "source": [
        "image_num = 0 # Change this number to see different image examples\n",
        "image = x_train[:,image_num]\n",
        "label = one_hot.inverse_transform(y_train[:,image_num].reshape(1,-1))[0][0]\n",
        "print(\"Label: \" + str(label))\n",
        "plt.imshow(image.reshape(28,28))\n",
        "plt.show()"
      ],
      "execution_count": null,
      "outputs": [
        {
          "output_type": "stream",
          "text": [
            "Label: 5\n"
          ],
          "name": "stdout"
        },
        {
          "output_type": "display_data",
          "data": {
            "image/png": "[encoded data removed]",
            "text/plain": [
              "<Figure size 432x288 with 1 Axes>"
            ]
          },
          "metadata": {
            "tags": [],
            "needs_background": "light"
          }
        }
      ]
    },
    {
      "cell_type": "markdown",
      "metadata": {
        "id": "Wvo-vBXwx1Gs"
      },
      "source": [
        "## Data set Features\n",
        "Here is some information about the features and labels of our data set.\n",
        "\n",
        "**X-Values (Features)**\n",
        "- 784 grayscale pixel values (0 to 255)\n",
        "> - There are 784 pixels in total for each image because the image dimensions are $28\\times 28$.\n",
        "\n",
        "**Y-Value (Label)**\n",
        "- Label: The digit that the image is supposed to represent.\n",
        "\n",
        "We will be turning each y-value into a one hot encoding."
      ]
    },
    {
      "cell_type": "code",
      "metadata": {
        "colab": {
          "base_uri": "https://localhost:8080/"
        },
        "id": "uN0ToM_S4nEO",
        "outputId": "f051f89f-b64b-4afc-ed3e-c61378caabc8"
      },
      "source": [
        "m_train = x_train.shape[1]\n",
        "m_test = x_test.shape[1]\n",
        "\n",
        "print(\"Number of examples in train set: \" + str(m_train))\n",
        "print(\"Number of examples in test set:\\t \" + str(m_test))"
      ],
      "execution_count": null,
      "outputs": [
        {
          "output_type": "stream",
          "text": [
            "Number of examples in train set: 60000\n",
            "Number of examples in test set:\t 10000\n"
          ],
          "name": "stdout"
        }
      ]
    },
    {
      "cell_type": "code",
      "metadata": {
        "colab": {
          "base_uri": "https://localhost:8080/"
        },
        "id": "aRF-_hlH3eLW",
        "outputId": "6c5cd6c7-1765-411f-dc9c-de7ea96d4af7"
      },
      "source": [
        "m = m_train + m_test\n",
        "n = x_train.shape[0]\n",
        "print(\"Number of examples: \" + str(m))\n",
        "print(\"Number of features: \" + str(n))"
      ],
      "execution_count": null,
      "outputs": [
        {
          "output_type": "stream",
          "text": [
            "Number of examples: 70000\n",
            "Number of features: 784\n"
          ],
          "name": "stdout"
        }
      ]
    },
    {
      "cell_type": "markdown",
      "metadata": {
        "id": "YreZ6LzP_n9I"
      },
      "source": [
        "## Data set Shape\n",
        "In the last two code boxes, we found that our data set has 70,000 examples, 60,000 of which are in the train set and 10,000 of which are in the test set. Additionally, as we said before, both the train set and the test set have 784 features (pixel values). This kind of familiarity with the data set is always nice to know before creating the Deep Learning model. "
      ]
    },
    {
      "cell_type": "markdown",
      "metadata": {
        "id": "DN4NjVCCmzqQ"
      },
      "source": [
        "## Normalization\n",
        "For Linear Regression, we must **normalize** our values. In this case, that means bringing the mean to 0 and the standard deviation to 1 using the following code box. Note that we only do this for the X-Values (Features)."
      ]
    },
    {
      "cell_type": "code",
      "metadata": {
        "id": "TdphP6yDnHi6"
      },
      "source": [
        "# x_train_np\n",
        "x_train = x_train/255\n",
        "\n",
        "# x_test_np\n",
        "x_test = x_test/255"
      ],
      "execution_count": null,
      "outputs": []
    },
    {
      "cell_type": "code",
      "metadata": {
        "colab": {
          "base_uri": "https://localhost:8080/"
        },
        "id": "ViNimon1dgqM",
        "outputId": "5aaccd88-90c2-44bc-e57d-1e343f21afa8"
      },
      "source": [
        "x_train"
      ],
      "execution_count": null,
      "outputs": [
        {
          "output_type": "execute_result",
          "data": {
            "text/plain": [
              "array([[0., 0., 0., ..., 0., 0., 0.],\n",
              "       [0., 0., 0., ..., 0., 0., 0.],\n",
              "       [0., 0., 0., ..., 0., 0., 0.],\n",
              "       ...,\n",
              "       [0., 0., 0., ..., 0., 0., 0.],\n",
              "       [0., 0., 0., ..., 0., 0., 0.],\n",
              "       [0., 0., 0., ..., 0., 0., 0.]])"
            ]
          },
          "metadata": {
            "tags": []
          },
          "execution_count": 11
        }
      ]
    },
    {
      "cell_type": "markdown",
      "metadata": {
        "id": "r9ZYV-sZ0SXG"
      },
      "source": [
        "## Gradient Descent\n",
        "Now we will move onto the Neural Network model. For Neural Networks, we use Gradient Descent. These are the steps of Gradient Descent (the parameter initialization is specific to Neural Networks, but most of these steps are applied to (mostly) all types of Machine Learning and Deep Learning algorithms): \n",
        "1. Initialize Parameters\n",
        "> For Neural Networks, we initialize all parameters except for the bias parameters at random. We initialize the bias parameters to be 0.\n",
        "2. Hypothesis Function\n",
        "> Use the paramters and input features to compute the hypothesis $\\hat{y}$. \n",
        "3. Cost Function\n",
        "> Use the prediction $\\hat{y}$ and the real label $y$ to compute the Binary Cross Entropy (Cross Entropy) cost function.\n",
        "4. Parameter Update\n",
        "> Compute the parameter update for all parameters and update them using the appropriate learning rate $\\alpha$ (alpha).\n",
        "5. Repeat!\n",
        "> Repeat Steps 2-4 many times until the cost is sufficiently low.\n",
        "\n",
        "In the following code boxes, we will write code for each of these steps. In the end, we will put these together to train the Neural Network model."
      ]
    },
    {
      "cell_type": "markdown",
      "metadata": {
        "id": "N1gaVIkbqzQp"
      },
      "source": [
        "### Neural Network Architecture\n",
        "The following image shows the architecture of the Neural Network we will be implementing. However, we want to create code so that we can easily change the architecture. So, you will see that all of the methods we will be implementing will be generalized."
      ]
    },
    {
      "cell_type": "markdown",
      "metadata": {
        "id": "d0GaKdrdqFTz"
      },
      "source": [
        "![Screen Shot 2021-07-22 at 12.58.39 AM.png](data:image/png;base64,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)"
      ]
    },
    {
      "cell_type": "markdown",
      "metadata": {
        "id": "wMBuahTx5fPT"
      },
      "source": [
        "### 1. Initialize Parameters\n",
        "A Neural Network has different parameters at each layer. How do we initialize the parameters for all layers? \n",
        "\n",
        "First, we start by creating a function to initialize the parameters for one layer. "
      ]
    },
    {
      "cell_type": "markdown",
      "metadata": {
        "id": "vMz1Uw3HsMyU"
      },
      "source": [
        "The parameters for one layer will be stored in a matrix of shape $n_y \\times n_x$, where $n_y$ is the number of units in the next layer and $n_x$ is the number of units in the previous layer. (Remember, these parameters will be initialized at random.)\n",
        "\n",
        "The bias parameters will be stored in an array of zeros with shape $n_y \\times 1$. "
      ]
    },
    {
      "cell_type": "code",
      "metadata": {
        "id": "k1J-DaXe2CPh"
      },
      "source": [
        "def initialize_parameters_one_layer(n_x, n_y):\n",
        "  W = np.random.rand(n_y, n_x)\n",
        "  b = np.zeros((n_y,1))\n",
        "  return W, b"
      ],
      "execution_count": null,
      "outputs": []
    },
    {
      "cell_type": "code",
      "metadata": {
        "colab": {
          "base_uri": "https://localhost:8080/"
        },
        "id": "j4HpuPvRtXGU",
        "outputId": "e787b82c-8d6f-49fd-9c17-1ab000ec66dc"
      },
      "source": [
        "# Let's test it out!\n",
        "W_temp, b_temp = initialize_parameters_one_layer(8,8)\n",
        "print(W_temp)\n",
        "print(\"\\n\\n\")\n",
        "print(b_temp)"
      ],
      "execution_count": null,
      "outputs": [
        {
          "output_type": "stream",
          "text": [
            "[[0.9948882  0.31061237 0.59983966 0.0903806  0.39713194 0.74456186\n",
            "  0.74524955 0.61054516]\n",
            " [0.40787876 0.7472519  0.21508359 0.70613346 0.09833612 0.77623298\n",
            "  0.84916848 0.93004424]\n",
            " [0.37349405 0.9830624  0.56006727 0.63066102 0.58694321 0.19604183\n",
            "  0.02724027 0.76783474]\n",
            " [0.64280007 0.76425092 0.09191286 0.79202201 0.46478162 0.6500469\n",
            "  0.81145321 0.38500157]\n",
            " [0.46835228 0.70215198 0.28147696 0.77359609 0.60774462 0.75848635\n",
            "  0.7629576  0.5458516 ]\n",
            " [0.48069041 0.36528199 0.16404106 0.213355   0.93370239 0.57034688\n",
            "  0.68039659 0.46567365]\n",
            " [0.11422886 0.19365046 0.65993693 0.99365807 0.49854135 0.14871664\n",
            "  0.89138876 0.21796542]\n",
            " [0.36232873 0.86834132 0.73126737 0.42163397 0.19175555 0.12868344\n",
            "  0.3792012  0.1771464 ]]\n",
            "\n",
            "\n",
            "\n",
            "[[0.]\n",
            " [0.]\n",
            " [0.]\n",
            " [0.]\n",
            " [0.]\n",
            " [0.]\n",
            " [0.]\n",
            " [0.]]\n"
          ],
          "name": "stdout"
        }
      ]
    },
    {
      "cell_type": "markdown",
      "metadata": {
        "id": "UZMFEsu5ycil"
      },
      "source": [
        "Then, we create all of the parameters for all of the layers. To do this, we have to know the architecture of the network, so we pass that as an argument.\n",
        "\n",
        "This argument will be a list like [784,8,8,10] (which is the network structure we will be using).\n",
        "\n",
        "We will store the final parameters in a dictionary called \"parameters,\" which we will return at the end of the function."
      ]
    },
    {
      "cell_type": "code",
      "metadata": {
        "id": "XDQFN_iIyta7"
      },
      "source": [
        "def initialize_parameters(layer_dims):\n",
        "  parameters = {}\n",
        "  for i in range(len(layer_dims)-1):\n",
        "    parameters[\"W\" + str(i + 1)], parameters[\"b\" + str(i + 1)] = initialize_parameters_one_layer(layer_dims[i], layer_dims[i+1])\n",
        "  \n",
        "  return parameters"
      ],
      "execution_count": null,
      "outputs": []
    },
    {
      "cell_type": "code",
      "metadata": {
        "colab": {
          "base_uri": "https://localhost:8080/"
        },
        "id": "dgFIrj41zlBx",
        "outputId": "f2359245-db55-4b3c-f98b-b249622480ee"
      },
      "source": [
        "# Let's test it out!\n",
        "initialize_parameters([1,8,8,1])"
      ],
      "execution_count": null,
      "outputs": [
        {
          "output_type": "execute_result",
          "data": {
            "text/plain": [
              "{'W1': array([[0.50403375],\n",
              "        [0.2482813 ],\n",
              "        [0.4401925 ],\n",
              "        [0.80938932],\n",
              "        [0.17882748],\n",
              "        [0.61901345],\n",
              "        [0.1650366 ],\n",
              "        [0.18466573]]),\n",
              " 'W2': array([[0.31584434, 0.66085578, 0.32536029, 0.07630073, 0.26280106,\n",
              "         0.18086192, 0.80576887, 0.55052303],\n",
              "        [0.8421674 , 0.67539196, 0.55940613, 0.46603706, 0.24337491,\n",
              "         0.96732574, 0.05994815, 0.96613542],\n",
              "        [0.81486762, 0.5078549 , 0.32228502, 0.80395045, 0.80621855,\n",
              "         0.42159382, 0.7995287 , 0.76764003],\n",
              "        [0.12166132, 0.69217668, 0.74841264, 0.41248084, 0.9953898 ,\n",
              "         0.77604088, 0.78442132, 0.43921354],\n",
              "        [0.62223419, 0.10602683, 0.72589688, 0.22725062, 0.20834198,\n",
              "         0.14922117, 0.9117977 , 0.18231461],\n",
              "        [0.46405014, 0.83205318, 0.52006071, 0.36658749, 0.06654238,\n",
              "         0.04215887, 0.38908826, 0.57961021],\n",
              "        [0.14434125, 0.12783952, 0.66082712, 0.45476599, 0.59337462,\n",
              "         0.22681795, 0.63748266, 0.15836681],\n",
              "        [0.22914379, 0.98708748, 0.30427091, 0.01945012, 0.54740481,\n",
              "         0.41804085, 0.99274595, 0.68454313]]),\n",
              " 'W3': array([[0.35134235, 0.36249248, 0.95158612, 0.56110301, 0.76751867,\n",
              "         0.81790674, 0.25298197, 0.91874051]]),\n",
              " 'b1': array([[0.],\n",
              "        [0.],\n",
              "        [0.],\n",
              "        [0.],\n",
              "        [0.],\n",
              "        [0.],\n",
              "        [0.],\n",
              "        [0.]]),\n",
              " 'b2': array([[0.],\n",
              "        [0.],\n",
              "        [0.],\n",
              "        [0.],\n",
              "        [0.],\n",
              "        [0.],\n",
              "        [0.],\n",
              "        [0.]]),\n",
              " 'b3': array([[0.]])}"
            ]
          },
          "metadata": {
            "tags": []
          },
          "execution_count": 15
        }
      ]
    },
    {
      "cell_type": "markdown",
      "metadata": {
        "id": "ZbKQoWSg6-VI"
      },
      "source": [
        "### 2. Hypothesis Function\n",
        "Now, we implement the hypothesis function for Neural Networks. Just like for the parameter initialization, we cannot make our code specific to our neural network architecture.\n",
        "\n",
        "So how do we compute the hypothesis? \n",
        "\n",
        "We take a similar approach as in the parameter initialization. We first compute the activation units of the next layer given the activation units of the previous layer. \n",
        "\n",
        "Then, we create another function which repeats this process many times to compute the final hypothesis given the original inputs.\n",
        "\n",
        "(Before we do this, we define the sigmoid function.)"
      ]
    },
    {
      "cell_type": "markdown",
      "metadata": {
        "id": "xs9uJVL91Ri2"
      },
      "source": [
        "Here is the sigmoid function:"
      ]
    },
    {
      "cell_type": "code",
      "metadata": {
        "id": "bTE8YhdbHyM0"
      },
      "source": [
        "def sigmoid(x):\n",
        "  return 1/(1+math.e**(-x))"
      ],
      "execution_count": null,
      "outputs": []
    },
    {
      "cell_type": "markdown",
      "metadata": {
        "id": "Qz-mrgQ11S_K"
      },
      "source": [
        "Now, we compute the activation units of the next layer given the activation units of the last layer. \n",
        "\n",
        "Shape of input: $n_x\\times m$\n",
        "\n",
        "Shape of parameter (not bias parameter): $n_y\\times n_x$\n",
        "\n",
        "We want the shape: $n_y\\times m$. \n",
        "\n",
        "Therefore, we do: \n",
        "$$\\text{parameter}\\times \\text{input} + \\text{bias parameter}.$$\n",
        "\n",
        "Finally, we take the sigmoid of this answer.\n",
        "\n",
        "We also return the value before we take the sigmoid for backpropagation."
      ]
    },
    {
      "cell_type": "code",
      "metadata": {
        "id": "Z53op74b692c"
      },
      "source": [
        "def hypothesis_one_layer(layer_num, input, parameters):\n",
        "  W = parameters[\"W\" + str(layer_num)]\n",
        "  b = parameters[\"b\" + str(layer_num)]\n",
        "\n",
        "  z = np.dot(W, input) + b\n",
        "  y_hat = sigmoid(z)\n",
        "  return y_hat, z"
      ],
      "execution_count": null,
      "outputs": []
    },
    {
      "cell_type": "markdown",
      "metadata": {
        "id": "tPRhE6_5-sbl"
      },
      "source": [
        "To find the hypothesis, we repeat the last function a lot of times according to the layer dimensions. We have to also remember to store some of the values in a \"cache\" for when we do backpropagation."
      ]
    },
    {
      "cell_type": "code",
      "metadata": {
        "id": "hEaoL5Fr-p_P"
      },
      "source": [
        "def hypothesis(layer_dims, x, parameters):\n",
        "  cache = {}\n",
        "  y_hat = x\n",
        "  for i in range(len(layer_dims)-1):\n",
        "    y_hat, cache[\"Z\"+str(i+1)] = hypothesis_one_layer(i+1, y_hat, parameters)\n",
        "    cache[\"A\"+str(i+1)] = y_hat\n",
        "  \n",
        "  return y_hat, cache"
      ],
      "execution_count": null,
      "outputs": []
    },
    {
      "cell_type": "markdown",
      "metadata": {
        "id": "b6fzCWODTx_1"
      },
      "source": [
        "### 3. Cost Function\n",
        "Now, we define the cost function using $\\hat{\\textbf{Y}}$ and $\\textbf{Y}$. Remember, when $\\hat{\\textbf{Y}}$ and $\\textbf{Y}$ are matrices, the cost function is defined as follows:\n",
        "$$J(\\textbf{X},b,\\textbf{W})=-\\frac{1}{m}\\left[\\textbf{Y}\\log{\\hat{\\textbf{Y}}}+(1-\\textbf{Y})\\log{(1-\\hat{\\textbf{Y}})}\\right],$$\n",
        "where ''$-$'' and the squaring operation represent element-wise subtraction and squaring. Note that \"log\" is the natural log function with base $e$. In Python code, this would be:\n",
        "```\n",
        "J = - 1/(m) * (y*np.log(y_hat) + (1-y)*np.log(1-y_hat))\n",
        "```\n",
        "(Sidenote: For the Python function, instead of passing in $\\textbf{X}$, $b$, and $\\textbf{W}$, we will simply pass in $\\hat{\\textbf{Y}}$ (which we computed in the last step). Additionally, we will pass in $\\textbf{Y}$ and $m$.) \n",
        "\n",
        "In the next code box, we create the cost function.\n",
        "\n",
        "(Note: The cost function for Neural Networks is the same as the Logistic Regression cost function in this case.)"
      ]
    },
    {
      "cell_type": "code",
      "metadata": {
        "id": "pi_Qp5aX65U0"
      },
      "source": [
        "def cost(y_hat, y, m):\n",
        "  J = - 1/m * np.sum(y*np.log(y_hat) + (1-y)*np.log(1-y_hat))\n",
        "  return J"
      ],
      "execution_count": null,
      "outputs": []
    },
    {
      "cell_type": "markdown",
      "metadata": {
        "id": "x1vN90SqWDGx"
      },
      "source": [
        "### 4. Parameter Update\n",
        "After computing the cost, we have to adjust our parameters. Recall that the parameter update for $\\textbf{W}$ is:\n",
        "$$W:=W-\\alpha\\cdot \\frac{dJ}{d\\textbf{W}}.$$\n",
        "Similarly, this is how we update $b$:\n",
        "$$b:=b-\\alpha\\cdot \\frac{dJ}{db}.$$\n",
        "To find $\\frac{dJ}{d\\textbf{W}}$ and $\\frac{dJ}{db}$, we again find this in pieces. Because we did not learn Calculus, do not worry about how we find these values. Just note how we use them to update the Neural Network weights.\n",
        "\n",
        "(Implementational Detail: We store all of the gradients (parameter updates) in a dictionary called \"grads\" in the parameter update function.)"
      ]
    },
    {
      "cell_type": "code",
      "metadata": {
        "id": "8kMIa6y7WBxe"
      },
      "source": [
        "def parameter_update_one_layer(dz, a, z, w):\n",
        "  dW = 1/m * np.dot(dz, a.T)\n",
        "  db = 1/m * np.sum(dz, axis=1, keepdims=True)\n",
        "  dZ = np.dot(w.T, dz) * (sigmoid(z) * (1-sigmoid(z)))\n",
        "\n",
        "  return dW, db, dZ"
      ],
      "execution_count": null,
      "outputs": []
    },
    {
      "cell_type": "markdown",
      "metadata": {
        "id": "RWecsU-cCxk2"
      },
      "source": [
        "Now, we write the parameter update function to update all parameters."
      ]
    },
    {
      "cell_type": "code",
      "metadata": {
        "id": "lobe66-AC7WB"
      },
      "source": [
        "def parameter_update(layer_dims, y, cache, parameters, alpha=0.1):\n",
        "  grads = {}\n",
        "  A = cache[\"A\"+str(len(layer_dims)-1)]\n",
        "  dZ = A - y\n",
        "  A = cache[\"A\"+str(len(layer_dims)-2)]\n",
        "  Z = cache[\"Z\"+str(len(layer_dims)-2)]\n",
        "  grads[\"dZ\"+str(len(layer_dims)-1)] = dZ\n",
        "  W = parameters[\"W\"+str(len(layer_dims)-1)]\n",
        "\n",
        "  for i in range(len(layer_dims)-1, 1, -1):\n",
        "    dW, db, dZ = parameter_update_one_layer(dZ, A, Z, W)\n",
        "    grads[\"dW\"+str(i)] = dW\n",
        "    grads[\"db\"+str(i)] = db\n",
        "    grads[\"dZ\"+str(i)] = dZ\n",
        "\n",
        "    A = cache[\"A\"+str(i-1)]\n",
        "    Z = cache[\"Z\"+str(i-1)]\n",
        "    W = parameters[\"W\"+str(i-1)]\n",
        "  \n",
        "  for i in grads.keys():\n",
        "    if i[1] == \"W\" or i[1] == \"b\":\n",
        "      parameters[i[1:]] = parameters[i[1:]] - alpha * grads[i]\n",
        "  \n",
        "  return parameters"
      ],
      "execution_count": null,
      "outputs": []
    },
    {
      "cell_type": "markdown",
      "metadata": {
        "id": "5QJ3XB7naBVb"
      },
      "source": [
        "### Put it all together!\n",
        "We will now do Step 5 of Gradient Descent (Repeat!) by putting all of the previous functions together into a model function. This is what we will do in this function:\n",
        "1. Initialize Parameters\n",
        "\n",
        "For as many iterations as we chose to train our model:\n",
        "2. Compute Hypothesis\n",
        "3. Compute Cost Function\n",
        "4. Update Parameters\n",
        "\n",
        "Finally, we return the learned parameters $\\textbf{W}$ and $b$. While training the model, we will print the cost on the train set every few iterations and, along with this, the cost on the test set. We will keep track of these costs and return some values that are helpful in graphing our performance.\n",
        "\n",
        "In the following code box, we create the model function."
      ]
    },
    {
      "cell_type": "code",
      "metadata": {
        "id": "ds0BRYr1aAvw"
      },
      "source": [
        "def model(x_train, y_train, m_train, x_test, y_test, m_test, layer_dims, alpha=0.1, iterations=100):\n",
        "  # Initialize Parameters\n",
        "  parameters = initialize_parameters(layer_dims)\n",
        "\n",
        "  # Keep track of costs for train and test sets\n",
        "  iteration_nums = [] # X-value for performance graph\n",
        "  costs_train = []\n",
        "  costs_test = []\n",
        "\n",
        "  # Repeat the following steps of Gradient Descent using a for-loop\n",
        "  for i in range(iterations):\n",
        "    # Compute Hypothesis\n",
        "    y_hat, cache = hypothesis(layer_dims, x_train, parameters)\n",
        "\n",
        "    # Compute Cost Function for train set and test set and print this out\n",
        "    # Only do this once every 1 iteration\n",
        "    if i % 1 == 0:\n",
        "      iteration_nums.append(i) # Add iteration number to list of iteration numbers\n",
        "      cost_train = cost(y_hat, y_train, m_train) # Compute cost for train set\n",
        "      costs_train.append(cost_train) # Add cost to list of train costs\n",
        "      y_hat_test, _ = hypothesis(layer_dims, x_test, parameters) # Compute hypothesis for test set\n",
        "      cost_test = cost(y_hat_test, y_test, m_test) # Compute cost for test set\n",
        "      costs_test.append(cost_test) # Add cost to list of test costs\n",
        "      print(\"\\n\\nIteration \" + str(i+1))\n",
        "      print(\"Train set cost: \" + str(cost_train))\n",
        "      print(\"Test set cost: \" + str(cost_test))\n",
        "    \n",
        "    # Update Parameters\n",
        "    parameters = parameter_update(layer_dims, y_train, cache, parameters, alpha)\n",
        "  \n",
        "  # Print final costs for train and test sets\n",
        "  iteration_nums.append(iterations) # Add iteration number to list of iteration numbers\n",
        "  y_hat, _ = hypothesis(layer_dims, x_train, parameters) # Compute hypothesis for train set\n",
        "  cost_train = cost(y_hat, y_train, m_train) # Compute cost for train set\n",
        "  costs_train.append(cost_train) # Add cost to list of train costs\n",
        "  y_hat_test, _ = hypothesis(layer_dims, x_test, parameters) # Compute hypothesis for test set\n",
        "  cost_test = cost(y_hat_test, y_test, m_test) # Compute cost for test set\n",
        "  costs_test.append(cost_test) # Add cost to list of test costs\n",
        "  print(\"\\n\\n\")\n",
        "  print(\"Final train set cost: \" + str(cost_train))\n",
        "  print(\"Final test set cost: \" + str(cost_test))\n",
        "\n",
        "  # Return learned parameters\n",
        "  return parameters, iteration_nums, costs_train, costs_test"
      ],
      "execution_count": null,
      "outputs": []
    },
    {
      "cell_type": "markdown",
      "metadata": {
        "id": "4xnX2ogahvbr"
      },
      "source": [
        "## Training the Model\n",
        "Finally, we get to train the Neural Network model. In the next code box, we run the model function with the appropriate arguments and store the learned parameters in the variable \"parameters.\"\n",
        "\n",
        "Note that we use [784,8,8,10] for the value of \"layer_dims\" because of the Neural Network architecture we decided on."
      ]
    },
    {
      "cell_type": "code",
      "metadata": {
        "id": "hfOVV8CJa6z8"
      },
      "source": [
        "layer_dims = [784,8,8,10]"
      ],
      "execution_count": null,
      "outputs": []
    },
    {
      "cell_type": "code",
      "metadata": {
        "colab": {
          "base_uri": "https://localhost:8080/"
        },
        "id": "CJEz-5cHaAJB",
        "outputId": "cfe83e96-8caa-4519-a1a6-03959d8fca8f"
      },
      "source": [
        "parameters, iteration_nums, costs_train, costs_test = model(x_train, y_train, m_train, x_test, y_test, m_test, layer_dims, alpha=0.1, iterations=100)"
      ],
      "execution_count": null,
      "outputs": [
        {
          "output_type": "stream",
          "text": [
            "\n",
            "\n",
            "Iteration 1\n",
            "Train set cost: 35.07658208824893\n",
            "Test set cost: 35.08643914912262\n",
            "\n",
            "\n",
            "Iteration 2\n",
            "Train set cost: 29.49682882032977\n",
            "Test set cost: 29.5063886113274\n",
            "\n",
            "\n",
            "Iteration 3\n",
            "Train set cost: 24.283044178226376\n",
            "Test set cost: 24.292135570154073\n",
            "\n",
            "\n",
            "Iteration 4\n",
            "Train set cost: 19.570206944748893\n",
            "Test set cost: 19.578618183567112\n",
            "\n",
            "\n",
            "Iteration 5\n",
            "Train set cost: 15.487951238926728\n",
            "Test set cost: 15.495470592735796\n",
            "\n",
            "\n",
            "Iteration 6\n",
            "Train set cost: 12.132084141206459\n",
            "Test set cost: 12.138562771311786\n",
            "\n",
            "\n",
            "Iteration 7\n",
            "Train set cost: 9.533488428554469\n",
            "Test set cost: 9.538895864218208\n",
            "\n",
            "\n",
            "Iteration 8\n",
            "Train set cost: 7.638942197203305\n",
            "Test set cost: 7.643369645153778\n",
            "\n",
            "\n",
            "Iteration 9\n",
            "Train set cost: 6.323750698917708\n",
            "Test set cost: 6.327358008042367\n",
            "\n",
            "\n",
            "Iteration 10\n",
            "Train set cost: 5.435211583873795\n",
            "Test set cost: 5.438166375023456\n",
            "\n",
            "\n",
            "Iteration 11\n",
            "Train set cost: 4.836756871603709\n",
            "Test set cost: 4.839201930578125\n",
            "\n",
            "\n",
            "Iteration 12\n",
            "Train set cost: 4.427906486600051\n",
            "Test set cost: 4.429952860178958\n",
            "\n",
            "\n",
            "Iteration 13\n",
            "Train set cost: 4.142285100945218\n",
            "Test set cost: 4.144016329761375\n",
            "\n",
            "\n",
            "Iteration 14\n",
            "Train set cost: 3.937901749107486\n",
            "Test set cost: 3.939380349984817\n",
            "\n",
            "\n",
            "Iteration 15\n",
            "Train set cost: 3.7883051681681\n",
            "Test set cost: 3.7895782759578065\n",
            "\n",
            "\n",
            "Iteration 16\n",
            "Train set cost: 3.6765814563801387\n",
            "Test set cost: 3.677685067073104\n",
            "\n",
            "\n",
            "Iteration 17\n",
            "Train set cost: 3.591667031297092\n",
            "Test set cost: 3.592629038978742\n",
            "\n",
            "\n",
            "Iteration 18\n",
            "Train set cost: 3.5261448101707775\n",
            "Test set cost: 3.5269871513855033\n",
            "\n",
            "\n",
            "Iteration 19\n",
            "Train set cost: 3.474922080235384\n",
            "Test set cost: 3.475662251205908\n",
            "\n",
            "\n",
            "Iteration 20\n",
            "Train set cost: 3.4344237921905405\n",
            "Test set cost: 3.4350759321799913\n",
            "\n",
            "\n",
            "Iteration 21\n",
            "Train set cost: 3.402089395452101\n",
            "Test set cost: 3.4026650698908045\n",
            "\n",
            "\n",
            "Iteration 22\n",
            "Train set cost: 3.37605160619777\n",
            "Test set cost: 3.376560380435936\n",
            "\n",
            "\n",
            "Iteration 23\n",
            "Train set cost: 3.354926591037642\n",
            "Test set cost: 3.355376456450497\n",
            "\n",
            "\n",
            "Iteration 24\n",
            "Train set cost: 3.337673932661621\n",
            "Test set cost: 3.338071627315054\n",
            "\n",
            "\n",
            "Iteration 25\n",
            "Train set cost: 3.3235012754575024\n",
            "Test set cost: 3.3238525284898515\n",
            "\n",
            "\n",
            "Iteration 26\n",
            "Train set cost: 3.3117981848668023\n",
            "Test set cost: 3.3121079049654183\n",
            "\n",
            "\n",
            "Iteration 27\n",
            "Train set cost: 3.3020894866086024\n",
            "Test set cost: 3.3023619090030314\n",
            "\n",
            "\n",
            "Iteration 28\n",
            "Train set cost: 3.29400183411698\n",
            "Test set cost: 3.2942406364227805\n",
            "\n",
            "\n",
            "Iteration 29\n",
            "Train set cost: 3.287239411592314\n",
            "Test set cost: 3.2874478060011536\n",
            "\n",
            "\n",
            "Iteration 30\n",
            "Train set cost: 3.2815660452183857\n",
            "Test set cost: 3.281746852535231\n",
            "\n",
            "\n",
            "Iteration 31\n",
            "Train set cost: 3.276791874417174\n",
            "Test set cost: 3.2769475840269573\n",
            "\n",
            "\n",
            "Iteration 32\n",
            "Train set cost: 3.272763311348575\n",
            "Test set cost: 3.272896130174287\n",
            "\n",
            "\n",
            "Iteration 33\n",
            "Train set cost: 3.269355400818596\n",
            "Test set cost: 3.2694672935905946\n",
            "\n",
            "\n",
            "Iteration 34\n",
            "Train set cost: 3.2664659524782964\n",
            "Test set cost: 3.2665586750891045\n",
            "\n",
            "\n",
            "Iteration 35\n",
            "Train set cost: 3.264010995393178\n",
            "Test set cost: 3.2640861227069897\n",
            "\n",
            "\n",
            "Iteration 36\n",
            "Train set cost: 3.2619212289623514\n",
            "Test set cost: 3.261980178144826\n",
            "\n",
            "\n",
            "Iteration 37\n",
            "Train set cost: 3.260139231389666\n",
            "Test set cost: 3.260183281593961\n",
            "\n",
            "\n",
            "Iteration 38\n",
            "Train set cost: 3.258617249029794\n",
            "Test set cost: 3.258647558099528\n",
            "\n",
            "\n",
            "Iteration 39\n",
            "Train set cost: 3.2573154346589788\n",
            "Test set cost: 3.2573330533740754\n",
            "\n",
            "\n",
            "Iteration 40\n",
            "Train set cost: 3.2562004352536267\n",
            "Test set cost: 3.256206319540505\n",
            "\n",
            "\n",
            "Iteration 41\n",
            "Train set cost: 3.25524425375185\n",
            "Test set cost: 3.2552392751978805\n",
            "\n",
            "\n",
            "Iteration 42\n",
            "Train set cost: 3.254423326977638\n",
            "Test set cost: 3.2544082819256546\n",
            "\n",
            "\n",
            "Iteration 43\n",
            "Train set cost: 3.2537177751386492\n",
            "Test set cost: 3.2536933925865332\n",
            "\n",
            "\n",
            "Iteration 44\n",
            "Train set cost: 3.253110788276024\n",
            "Test set cost: 3.2530777367660244\n",
            "\n",
            "\n",
            "Iteration 45\n",
            "Train set cost: 3.252588122610456\n",
            "Test set cost: 3.2525470162604573\n",
            "\n",
            "\n",
            "Iteration 46\n",
            "Train set cost: 3.2521376855122717\n",
            "Test set cost: 3.2520890893152035\n",
            "\n",
            "\n",
            "Iteration 47\n",
            "Train set cost: 3.2517491922746435\n",
            "Test set cost: 3.251693626771068\n",
            "\n",
            "\n",
            "Iteration 48\n",
            "Train set cost: 3.2514138813167475\n",
            "Test set cost: 3.251351826728486\n",
            "\n",
            "\n",
            "Iteration 49\n",
            "Train set cost: 3.2511242771303785\n",
            "Test set cost: 3.251056177028945\n",
            "\n",
            "\n",
            "Iteration 50\n",
            "Train set cost: 3.2508739923890912\n",
            "Test set cost: 3.2508002569611603\n",
            "\n",
            "\n",
            "Iteration 51\n",
            "Train set cost: 3.2506575622982083\n",
            "Test set cost: 3.250578571260801\n",
            "\n",
            "\n",
            "Iteration 52\n",
            "Train set cost: 3.2504703055782724\n",
            "Test set cost: 3.2503864107884004\n",
            "\n",
            "\n",
            "Iteration 53\n",
            "Train set cost: 3.250308207520612\n",
            "Test set cost: 3.250219735317598\n",
            "\n",
            "\n",
            "Iteration 54\n",
            "Train set cost: 3.2501678213903955\n",
            "Test set cost: 3.250075074703489\n",
            "\n",
            "\n",
            "Iteration 55\n",
            "Train set cost: 3.250046185124404\n",
            "Test set cost: 3.2499494453738045\n",
            "\n",
            "\n",
            "Iteration 56\n",
            "Train set cost: 3.24994075081303\n",
            "Test set cost: 3.24984027962844\n",
            "\n",
            "\n",
            "Iteration 57\n",
            "Train set cost: 3.2498493248948965\n",
            "Test set cost: 3.249745365672528\n",
            "\n",
            "\n",
            "Iteration 58\n",
            "Train set cost: 3.2497700173495985\n",
            "Test set cost: 3.249662796665722\n",
            "\n",
            "\n",
            "Iteration 59\n",
            "Train set cost: 3.2497011984652655\n",
            "Test set cost: 3.2495909273620476\n",
            "\n",
            "\n",
            "Iteration 60\n",
            "Train set cost: 3.249641461996176\n",
            "Test set cost: 3.2495283371535324\n",
            "\n",
            "\n",
            "Iteration 61\n",
            "Train set cost: 3.2495895937216543\n",
            "Test set cost: 3.24947379852711\n",
            "\n",
            "\n",
            "Iteration 62\n",
            "Train set cost: 3.249544544578864\n",
            "Test set cost: 3.249426250105965\n",
            "\n",
            "\n",
            "Iteration 63\n",
            "Train set cost: 3.2495054076757457\n",
            "Test set cost: 3.249384773580228\n",
            "\n",
            "\n",
            "Iteration 64\n",
            "Train set cost: 3.24947139860083\n",
            "Test set cost: 3.249348573942739\n",
            "\n",
            "\n",
            "Iteration 65\n",
            "Train set cost: 3.2494418385387966\n",
            "Test set cost: 3.249316962537732\n",
            "\n",
            "\n",
            "Iteration 66\n",
            "Train set cost: 3.249416139777185\n",
            "Test set cost: 3.2492893425070513\n",
            "\n",
            "\n",
            "Iteration 67\n",
            "Train set cost: 3.2493937932537467\n",
            "Test set cost: 3.2492651962826726\n",
            "\n",
            "\n",
            "Iteration 68\n",
            "Train set cost: 3.2493743578475316\n",
            "Test set cost: 3.249244074828003\n",
            "\n",
            "\n",
            "Iteration 69\n",
            "Train set cost: 3.249357451161807\n",
            "Test set cost: 3.249225588375484\n",
            "\n",
            "\n",
            "Iteration 70\n",
            "Train set cost: 3.2493427415847167\n",
            "Test set cost: 3.2492093984459847\n",
            "\n",
            "\n",
            "Iteration 71\n",
            "Train set cost: 3.2493299414455237\n",
            "Test set cost: 3.2491952109673417\n",
            "\n",
            "\n",
            "Iteration 72\n",
            "Train set cost: 3.249318801111135\n",
            "Test set cost: 3.2491827703364295\n",
            "\n",
            "\n",
            "Iteration 73\n",
            "Train set cost: 3.2493091038904205\n",
            "Test set cost: 3.2491718542919292\n",
            "\n",
            "\n",
            "Iteration 74\n",
            "Train set cost: 3.249300661633103\n",
            "Test set cost: 3.2491622694842763\n",
            "\n",
            "\n",
            "Iteration 75\n",
            "Train set cost: 3.2492933109263653\n",
            "Test set cost: 3.249153847645701\n",
            "\n",
            "\n",
            "Iteration 76\n",
            "Train set cost: 3.249286909806226\n",
            "Test set cost: 3.2491464422771643\n",
            "\n",
            "\n",
            "Iteration 77\n",
            "Train set cost: 3.2492813349125647\n",
            "Test set cost: 3.249139925780902\n",
            "\n",
            "\n",
            "Iteration 78\n",
            "Train set cost: 3.249276479026805\n",
            "Test set cost: 3.2491341869773565\n",
            "\n",
            "\n",
            "Iteration 79\n",
            "Train set cost: 3.2492722489397905\n",
            "Test set cost: 3.249129128953931\n",
            "\n",
            "\n",
            "Iteration 80\n",
            "Train set cost: 3.249268563604831\n",
            "Test set cost: 3.2491246672003666\n",
            "\n",
            "\n",
            "Iteration 81\n",
            "Train set cost: 3.249265352537139\n",
            "Test set cost: 3.249120727991823\n",
            "\n",
            "\n",
            "Iteration 82\n",
            "Train set cost: 3.2492625544262648\n",
            "Test set cost: 3.2491172469861924\n",
            "\n",
            "\n",
            "Iteration 83\n",
            "Train set cost: 3.2492601159327514\n",
            "Test set cost: 3.2491141680067503\n",
            "\n",
            "\n",
            "Iteration 84\n",
            "Train set cost: 3.2492579906442463\n",
            "Test set cost: 3.2491114419852556\n",
            "\n",
            "\n",
            "Iteration 85\n",
            "Train set cost: 3.249256138169598\n",
            "Test set cost: 3.2491090260440134\n",
            "\n",
            "\n",
            "Iteration 86\n",
            "Train set cost: 3.2492545233525347\n",
            "Test set cost: 3.249106882698343\n",
            "\n",
            "\n",
            "Iteration 87\n",
            "Train set cost: 3.2492531155888957\n",
            "Test set cost: 3.2491049791634046\n",
            "\n",
            "\n",
            "Iteration 88\n",
            "Train set cost: 3.2492518882336463\n",
            "Test set cost: 3.249103286751554\n",
            "\n",
            "\n",
            "Iteration 89\n",
            "Train set cost: 3.249250818085757\n",
            "Test set cost: 3.2491017803482034\n",
            "\n",
            "\n",
            "Iteration 90\n",
            "Train set cost: 3.2492498849405793\n",
            "Test set cost: 3.2491004379558284\n",
            "\n",
            "\n",
            "Iteration 91\n",
            "Train set cost: 3.2492490712008295\n",
            "Test set cost: 3.2490992402971393\n",
            "\n",
            "\n",
            "Iteration 92\n",
            "Train set cost: 3.249248361538418\n",
            "Test set cost: 3.2490981704696313\n",
            "\n",
            "\n",
            "Iteration 93\n",
            "Train set cost: 3.2492477426003994\n",
            "Test set cost: 3.249097213644759\n",
            "\n",
            "\n",
            "Iteration 94\n",
            "Train set cost: 3.2492472027532884\n",
            "Test set cost: 3.249096356805913\n",
            "\n",
            "\n",
            "Iteration 95\n",
            "Train set cost: 3.2492467318606475\n",
            "Test set cost: 3.2490955885201114\n",
            "\n",
            "\n",
            "Iteration 96\n",
            "Train set cost: 3.2492463210896165\n",
            "Test set cost: 3.249094898739001\n",
            "\n",
            "\n",
            "Iteration 97\n",
            "Train set cost: 3.249245962742572\n",
            "Test set cost: 3.2490942786253756\n",
            "\n",
            "\n",
            "Iteration 98\n",
            "Train set cost: 3.249245650110634\n",
            "Test set cost: 3.2490937204018735\n",
            "\n",
            "\n",
            "Iteration 99\n",
            "Train set cost: 3.2492453773461913\n",
            "Test set cost: 3.249093217218989\n",
            "\n",
            "\n",
            "Iteration 100\n",
            "Train set cost: 3.2492451393519044\n",
            "Test set cost: 3.2490927630398874\n",
            "\n",
            "\n",
            "\n",
            "Final train set cost: 3.249244931684105\n",
            "Final test set cost: 3.249092352539868\n"
          ],
          "name": "stdout"
        }
      ]
    },
    {
      "cell_type": "markdown",
      "metadata": {
        "id": "qmrlGcpM6KEz"
      },
      "source": [
        "## Plotting Results\n",
        "\n",
        "Now, we plot our results to visualize how the model learned. In the following code box, we use matplotlib and the costs from the model training to create a graph with: \n",
        "\n",
        "$x$-axis: # of Iterations;\n",
        "\n",
        "$y$-axis: Cost."
      ]
    },
    {
      "cell_type": "code",
      "metadata": {
        "colab": {
          "base_uri": "https://localhost:8080/",
          "height": 295
        },
        "id": "5rOHpq4h0MAe",
        "outputId": "bafd0fd2-5108-4332-b375-efbb4900872a"
      },
      "source": [
        "plt.plot(iteration_nums, costs_train)\n",
        "plt.plot(iteration_nums, costs_test)\n",
        "plt.title(\"# of Iterations v.s. Cost (MSE)\")\n",
        "plt.xlabel(\"# of Iterations\")\n",
        "plt.ylabel(\"Cost (MSE)\")\n",
        "plt.show()"
      ],
      "execution_count": null,
      "outputs": [
        {
          "output_type": "display_data",
          "data": {
            "image/png": "[encoded data removed]",
            "text/plain": [
              "<Figure size 432x288 with 1 Axes>"
            ]
          },
          "metadata": {
            "tags": [],
            "needs_background": "light"
          }
        }
      ]
    },
    {
      "cell_type": "markdown",
      "metadata": {
        "id": "R6_wlYnTB60W"
      },
      "source": [
        "This plot is a bit zoomed out, so we will zoom in by only plotting the first 10,000 iterations onward."
      ]
    },
    {
      "cell_type": "code",
      "metadata": {
        "colab": {
          "base_uri": "https://localhost:8080/",
          "height": 295
        },
        "id": "lWaqvUx_814T",
        "outputId": "b07bfbd7-2f7f-49e7-f6ec-f14cf137de37"
      },
      "source": [
        "plt.plot(iteration_nums[50:], costs_train[50:])\n",
        "plt.plot(iteration_nums[50:], costs_test[50:])\n",
        "plt.title(\"# of Iterations v.s. Cost (MSE)\")\n",
        "plt.xlabel(\"# of Iterations\")\n",
        "plt.ylabel(\"Cost (MSE)\")\n",
        "plt.show()"
      ],
      "execution_count": null,
      "outputs": [
        {
          "output_type": "display_data",
          "data": {
            "image/png": "[encoded data removed]",
            "text/plain": [
              "<Figure size 432x288 with 1 Axes>"
            ]
          },
          "metadata": {
            "tags": [],
            "needs_background": "light"
          }
        }
      ]
    },
    {
      "cell_type": "markdown",
      "metadata": {
        "id": "TEo4wxhQmTkP"
      },
      "source": [
        "## Making Predictions\n",
        "In the next code box, we make predictions for some value in the test set. We will print out the prediction along with the real value.\n",
        "\n",
        "Feel free to play around with this code and make predictions on different examples."
      ]
    },
    {
      "cell_type": "code",
      "metadata": {
        "colab": {
          "base_uri": "https://localhost:8080/",
          "height": 299
        },
        "id": "dmD6UZxdmSjE",
        "outputId": "19563b04-3838-427c-b35a-a3382ee48002"
      },
      "source": [
        "example_num = 5 # This is the example number. Feel free to change it.\n",
        "hypothesis_example = hypothesis(layer_dims, x_test[:,example_num].reshape(-1,1), parameters)[0]\n",
        "real_label_example = one_hot.inverse_transform(y_test[:,example_num].reshape(1,-1))[0][0]\n",
        "print(\"Hypothesis: \" + str(np.where(np.max(hypothesis_example) == hypothesis_example)[0][0]))\n",
        "print(\"Real Label: \" + str(real_label_example))\n",
        "plt.imshow(x_test[:,example_num].reshape(28,28)*255)\n",
        "plt.show()"
      ],
      "execution_count": null,
      "outputs": [
        {
          "output_type": "stream",
          "text": [
            "Hypothesis: 1\n",
            "Real Label: 1\n"
          ],
          "name": "stdout"
        },
        {
          "output_type": "display_data",
          "data": {
            "image/png": "[encoded data removed]",
            "text/plain": [
              "<Figure size 432x288 with 1 Axes>"
            ]
          },
          "metadata": {
            "tags": [],
            "needs_background": "light"
          }
        }
      ]
    },
    {
      "cell_type": "markdown",
      "metadata": {
        "id": "yJAFl8fCCIVu"
      },
      "source": [
        "## Congratulations!\n",
        "You have now implemented a Neural Network model from scratch. You should be proud of yourself!\n",
        "\n",
        "The main takeaway from this assignment is the Gradient Descent algorithm, which has the following steps:\n",
        "\n",
        "1. Initialize Parameters\n",
        "2. Compute Hypothesis\n",
        "3. Compute Cost Function\n",
        "4. Update Parameters\n",
        "5. Repeat!\n",
        "\n",
        "Try Experimenting: What happens when you add more hidden layers?\n",
        "\n",
        "I hope you had fun!"
      ]
    }
  ]
}